{
 "cells": [
  {
   "cell_type": "markdown",
   "metadata": {},
   "source": [
    "## 데이터 만들기\n",
    "\n",
    "- 9월 2일 데이터로 time\t교통량\ttime_lag_day1\ttime_lag_day7\ttime_lag_day30\t교통량_lag_day1\t교통량_lag_day7\t교통량_lag_day30 데이터셋 만들기"
   ]
  },
  {
   "cell_type": "code",
   "execution_count": 4,
   "metadata": {},
   "outputs": [],
   "source": [
    "import pandas as pd\n",
    "import datetime as dt"
   ]
  },
  {
   "cell_type": "code",
   "execution_count": 116,
   "metadata": {},
   "outputs": [],
   "source": [
    "def func(a):\n",
    "    if len(str(a)) > 3:\n",
    "        h,m = map(int,a.split(':'))\n",
    "        t = h*60 + m\n",
    "        return int(t)\n",
    "    return a\n",
    "\n",
    "ridx = 0\n",
    "new_lst = []\n",
    "pass_lst = []\n",
    "\n",
    "for i in range(1,3):\n",
    "    df = pd.read_csv(f'./test_data/이동시간_{i}.csv',encoding='cp949')\n",
    "\n",
    "    for col in df.columns:\n",
    "        df[col] = df[col].apply(func)\n",
    "\n",
    "    for row in range(df.shape[0]):\n",
    "        cidx = 0\n",
    "        for col in df.columns:\n",
    "            if cidx > 3:           \n",
    "                ymd = col.split('.')\n",
    "                new =  dt.datetime(int(ymd[0]), int(ymd[1]), int(ymd[2]))\n",
    "                new_lst.append(new)\n",
    "                df[col] = df[col].astype(int)\n",
    "\n",
    "                did = (24 -(df[col] == 0).sum())\n",
    "                if did :\n",
    "                    pass_lst.append(df[col].sum() // did)\n",
    "                else:\n",
    "                    pass_lst.append(0)\n",
    "                    \n",
    "            cidx += 1"
   ]
  },
  {
   "cell_type": "code",
   "execution_count": 117,
   "metadata": {},
   "outputs": [
    {
     "data": {
      "text/html": [
       "<div>\n",
       "<style scoped>\n",
       "    .dataframe tbody tr th:only-of-type {\n",
       "        vertical-align: middle;\n",
       "    }\n",
       "\n",
       "    .dataframe tbody tr th {\n",
       "        vertical-align: top;\n",
       "    }\n",
       "\n",
       "    .dataframe thead th {\n",
       "        text-align: right;\n",
       "    }\n",
       "</style>\n",
       "<table border=\"1\" class=\"dataframe\">\n",
       "  <thead>\n",
       "    <tr style=\"text-align: right;\">\n",
       "      <th></th>\n",
       "      <th>datetime</th>\n",
       "      <th>time</th>\n",
       "    </tr>\n",
       "  </thead>\n",
       "  <tbody>\n",
       "    <tr>\n",
       "      <th>1483</th>\n",
       "      <td>2022-07-09</td>\n",
       "      <td>270</td>\n",
       "    </tr>\n",
       "    <tr>\n",
       "      <th>1484</th>\n",
       "      <td>2022-07-08</td>\n",
       "      <td>281</td>\n",
       "    </tr>\n",
       "    <tr>\n",
       "      <th>1485</th>\n",
       "      <td>2022-07-07</td>\n",
       "      <td>266</td>\n",
       "    </tr>\n",
       "    <tr>\n",
       "      <th>1486</th>\n",
       "      <td>2022-07-06</td>\n",
       "      <td>254</td>\n",
       "    </tr>\n",
       "    <tr>\n",
       "      <th>1487</th>\n",
       "      <td>2022-07-05</td>\n",
       "      <td>251</td>\n",
       "    </tr>\n",
       "  </tbody>\n",
       "</table>\n",
       "</div>"
      ],
      "text/plain": [
       "       datetime  time\n",
       "1483 2022-07-09   270\n",
       "1484 2022-07-08   281\n",
       "1485 2022-07-07   266\n",
       "1486 2022-07-06   254\n",
       "1487 2022-07-05   251"
      ]
     },
     "execution_count": 117,
     "metadata": {},
     "output_type": "execute_result"
    }
   ],
   "source": [
    "df_time = pd.DataFrame({'datetime':new_lst,'time':pass_lst})\n",
    "df_time.tail()"
   ]
  },
  {
   "cell_type": "code",
   "execution_count": 118,
   "metadata": {},
   "outputs": [
    {
     "data": {
      "text/plain": [
       "2022-09-02    1\n",
       "2022-09-01    1\n",
       "2022-08-01    1\n",
       "2022-07-31    1\n",
       "2022-07-30    1\n",
       "2022-07-29    1\n",
       "2022-07-28    1\n",
       "2022-07-27    1\n",
       "2022-07-26    1\n",
       "2022-07-25    1\n",
       "2022-07-24    1\n",
       "2022-07-23    1\n",
       "2022-07-22    1\n",
       "2022-07-21    1\n",
       "2022-07-20    1\n",
       "2022-07-19    1\n",
       "2022-07-18    1\n",
       "2022-07-17    1\n",
       "2022-07-16    1\n",
       "2022-07-15    1\n",
       "2022-07-14    1\n",
       "2022-07-13    1\n",
       "2022-07-12    1\n",
       "2022-07-11    1\n",
       "2022-07-10    1\n",
       "2022-07-09    1\n",
       "2022-07-08    1\n",
       "2022-07-07    1\n",
       "2022-07-06    1\n",
       "2022-08-02    1\n",
       "2022-08-03    1\n",
       "2022-08-04    1\n",
       "2022-08-19    1\n",
       "2022-08-31    1\n",
       "2022-08-30    1\n",
       "2022-08-29    1\n",
       "2022-08-28    1\n",
       "2022-08-27    1\n",
       "2022-08-26    1\n",
       "2022-08-25    1\n",
       "2022-08-24    1\n",
       "2022-08-23    1\n",
       "2022-08-22    1\n",
       "2022-08-21    1\n",
       "2022-08-20    1\n",
       "2022-08-18    1\n",
       "2022-08-05    1\n",
       "2022-08-17    1\n",
       "2022-08-16    1\n",
       "2022-08-15    1\n",
       "2022-08-14    1\n",
       "2022-08-13    1\n",
       "2022-08-12    1\n",
       "2022-08-11    1\n",
       "2022-08-10    1\n",
       "2022-08-09    1\n",
       "2022-08-08    1\n",
       "2022-08-07    1\n",
       "2022-08-06    1\n",
       "2022-07-05    1\n",
       "Name: datetime, dtype: int64"
      ]
     },
     "execution_count": 118,
     "metadata": {},
     "output_type": "execute_result"
    }
   ],
   "source": [
    "df_time.drop_duplicates('datetime',inplace=True)\n",
    "df_time['datetime'].value_counts()"
   ]
  },
  {
   "cell_type": "code",
   "execution_count": 122,
   "metadata": {},
   "outputs": [
    {
     "data": {
      "text/html": [
       "<div>\n",
       "<style scoped>\n",
       "    .dataframe tbody tr th:only-of-type {\n",
       "        vertical-align: middle;\n",
       "    }\n",
       "\n",
       "    .dataframe tbody tr th {\n",
       "        vertical-align: top;\n",
       "    }\n",
       "\n",
       "    .dataframe thead th {\n",
       "        text-align: right;\n",
       "    }\n",
       "</style>\n",
       "<table border=\"1\" class=\"dataframe\">\n",
       "  <thead>\n",
       "    <tr style=\"text-align: right;\">\n",
       "      <th></th>\n",
       "      <th>일자</th>\n",
       "      <th>교통량</th>\n",
       "    </tr>\n",
       "  </thead>\n",
       "  <tbody>\n",
       "    <tr>\n",
       "      <th>0</th>\n",
       "      <td>2022.07.05</td>\n",
       "      <td>10</td>\n",
       "    </tr>\n",
       "    <tr>\n",
       "      <th>1</th>\n",
       "      <td>2022.07.06</td>\n",
       "      <td>6</td>\n",
       "    </tr>\n",
       "    <tr>\n",
       "      <th>2</th>\n",
       "      <td>2022.07.07</td>\n",
       "      <td>13</td>\n",
       "    </tr>\n",
       "    <tr>\n",
       "      <th>3</th>\n",
       "      <td>2022.07.08</td>\n",
       "      <td>18</td>\n",
       "    </tr>\n",
       "    <tr>\n",
       "      <th>4</th>\n",
       "      <td>2022.07.09</td>\n",
       "      <td>16</td>\n",
       "    </tr>\n",
       "    <tr>\n",
       "      <th>...</th>\n",
       "      <td>...</td>\n",
       "      <td>...</td>\n",
       "    </tr>\n",
       "    <tr>\n",
       "      <th>26</th>\n",
       "      <td>2022.08.31</td>\n",
       "      <td>10</td>\n",
       "    </tr>\n",
       "    <tr>\n",
       "      <th>27</th>\n",
       "      <td>2022.09.01</td>\n",
       "      <td>7</td>\n",
       "    </tr>\n",
       "    <tr>\n",
       "      <th>28</th>\n",
       "      <td>2022.09.02</td>\n",
       "      <td>10</td>\n",
       "    </tr>\n",
       "    <tr>\n",
       "      <th>29</th>\n",
       "      <td>2022.09.03</td>\n",
       "      <td>15</td>\n",
       "    </tr>\n",
       "    <tr>\n",
       "      <th>30</th>\n",
       "      <td>2022.09.04</td>\n",
       "      <td>7</td>\n",
       "    </tr>\n",
       "  </tbody>\n",
       "</table>\n",
       "<p>62 rows × 2 columns</p>\n",
       "</div>"
      ],
      "text/plain": [
       "            일자  교통량\n",
       "0   2022.07.05   10\n",
       "1   2022.07.06    6\n",
       "2   2022.07.07   13\n",
       "3   2022.07.08   18\n",
       "4   2022.07.09   16\n",
       "..         ...  ...\n",
       "26  2022.08.31   10\n",
       "27  2022.09.01    7\n",
       "28  2022.09.02   10\n",
       "29  2022.09.03   15\n",
       "30  2022.09.04    7\n",
       "\n",
       "[62 rows x 2 columns]"
      ]
     },
     "execution_count": 122,
     "metadata": {},
     "output_type": "execute_result"
    }
   ],
   "source": [
    "df_traffic1 = pd.read_csv('./test_data/통행량_1.csv',encoding='cp949')\n",
    "df_traffic2 = pd.read_csv('./test_data/통행량_2.csv',encoding='cp949')\n",
    "df_traffic = pd.concat([df_traffic2,df_traffic1])\n",
    "df_traffic.drop(['출발','도착'],axis=1,inplace=True)\n",
    "#df_traffic.sort_index('일자',inplace=True)\n",
    "df_traffic"
   ]
  },
  {
   "cell_type": "code",
   "execution_count": 123,
   "metadata": {},
   "outputs": [],
   "source": [
    "df_traffic.drop_duplicates('일자',inplace=True)"
   ]
  },
  {
   "cell_type": "code",
   "execution_count": 124,
   "metadata": {},
   "outputs": [],
   "source": [
    "def transform(a):\n",
    "    return a.replace('.','-')\n",
    "\n",
    "\n",
    "df_traffic['일자'] = df_traffic['일자'].apply(transform)"
   ]
  },
  {
   "cell_type": "code",
   "execution_count": 125,
   "metadata": {},
   "outputs": [
    {
     "data": {
      "text/plain": [
       "2022-09-02    1\n",
       "2022-09-01    1\n",
       "2022-08-01    1\n",
       "2022-07-31    1\n",
       "2022-07-30    1\n",
       "2022-07-29    1\n",
       "2022-07-28    1\n",
       "2022-07-27    1\n",
       "2022-07-26    1\n",
       "2022-07-25    1\n",
       "2022-07-24    1\n",
       "2022-07-23    1\n",
       "2022-07-22    1\n",
       "2022-07-21    1\n",
       "2022-07-20    1\n",
       "2022-07-19    1\n",
       "2022-07-18    1\n",
       "2022-07-17    1\n",
       "2022-07-16    1\n",
       "2022-07-15    1\n",
       "2022-07-14    1\n",
       "2022-07-13    1\n",
       "2022-07-12    1\n",
       "2022-07-11    1\n",
       "2022-07-10    1\n",
       "2022-07-09    1\n",
       "2022-07-08    1\n",
       "2022-07-07    1\n",
       "2022-07-06    1\n",
       "2022-08-02    1\n",
       "2022-08-03    1\n",
       "2022-08-04    1\n",
       "2022-08-19    1\n",
       "2022-08-31    1\n",
       "2022-08-30    1\n",
       "2022-08-29    1\n",
       "2022-08-28    1\n",
       "2022-08-27    1\n",
       "2022-08-26    1\n",
       "2022-08-25    1\n",
       "2022-08-24    1\n",
       "2022-08-23    1\n",
       "2022-08-22    1\n",
       "2022-08-21    1\n",
       "2022-08-20    1\n",
       "2022-08-18    1\n",
       "2022-08-05    1\n",
       "2022-08-17    1\n",
       "2022-08-16    1\n",
       "2022-08-15    1\n",
       "2022-08-14    1\n",
       "2022-08-13    1\n",
       "2022-08-12    1\n",
       "2022-08-11    1\n",
       "2022-08-10    1\n",
       "2022-08-09    1\n",
       "2022-08-08    1\n",
       "2022-08-07    1\n",
       "2022-08-06    1\n",
       "2022-07-05    1\n",
       "Name: datetime, dtype: int64"
      ]
     },
     "execution_count": 125,
     "metadata": {},
     "output_type": "execute_result"
    }
   ],
   "source": [
    "df_time['datetime'].value_counts()"
   ]
  },
  {
   "cell_type": "code",
   "execution_count": 108,
   "metadata": {},
   "outputs": [
    {
     "data": {
      "text/html": [
       "<div>\n",
       "<style scoped>\n",
       "    .dataframe tbody tr th:only-of-type {\n",
       "        vertical-align: middle;\n",
       "    }\n",
       "\n",
       "    .dataframe tbody tr th {\n",
       "        vertical-align: top;\n",
       "    }\n",
       "\n",
       "    .dataframe thead th {\n",
       "        text-align: right;\n",
       "    }\n",
       "</style>\n",
       "<table border=\"1\" class=\"dataframe\">\n",
       "  <thead>\n",
       "    <tr style=\"text-align: right;\">\n",
       "      <th></th>\n",
       "      <th>datetime</th>\n",
       "      <th>time</th>\n",
       "    </tr>\n",
       "  </thead>\n",
       "  <tbody>\n",
       "    <tr>\n",
       "      <th>770</th>\n",
       "      <td>2022-07-09</td>\n",
       "      <td>270</td>\n",
       "    </tr>\n",
       "    <tr>\n",
       "      <th>771</th>\n",
       "      <td>2022-07-08</td>\n",
       "      <td>281</td>\n",
       "    </tr>\n",
       "    <tr>\n",
       "      <th>772</th>\n",
       "      <td>2022-07-07</td>\n",
       "      <td>266</td>\n",
       "    </tr>\n",
       "    <tr>\n",
       "      <th>773</th>\n",
       "      <td>2022-07-06</td>\n",
       "      <td>254</td>\n",
       "    </tr>\n",
       "    <tr>\n",
       "      <th>774</th>\n",
       "      <td>2022-07-05</td>\n",
       "      <td>251</td>\n",
       "    </tr>\n",
       "  </tbody>\n",
       "</table>\n",
       "</div>"
      ],
      "text/plain": [
       "      datetime  time\n",
       "770 2022-07-09   270\n",
       "771 2022-07-08   281\n",
       "772 2022-07-07   266\n",
       "773 2022-07-06   254\n",
       "774 2022-07-05   251"
      ]
     },
     "execution_count": 108,
     "metadata": {},
     "output_type": "execute_result"
    }
   ],
   "source": [
    "df_time.tail()"
   ]
  },
  {
   "cell_type": "code",
   "execution_count": 109,
   "metadata": {},
   "outputs": [
    {
     "name": "stdout",
     "output_type": "stream",
     "text": [
      "<class 'pandas.core.frame.DataFrame'>\n",
      "Int64Index: 60 entries, 0 to 774\n",
      "Data columns (total 2 columns):\n",
      " #   Column    Non-Null Count  Dtype         \n",
      "---  ------    --------------  -----         \n",
      " 0   datetime  60 non-null     datetime64[ns]\n",
      " 1   time      60 non-null     int64         \n",
      "dtypes: datetime64[ns](1), int64(1)\n",
      "memory usage: 1.4 KB\n"
     ]
    }
   ],
   "source": [
    "df_time.info()"
   ]
  },
  {
   "cell_type": "code",
   "execution_count": 126,
   "metadata": {},
   "outputs": [],
   "source": [
    "df_traffic['일자'] = df_traffic['일자'].astype('datetime64[ns]')"
   ]
  },
  {
   "cell_type": "code",
   "execution_count": 111,
   "metadata": {},
   "outputs": [
    {
     "name": "stdout",
     "output_type": "stream",
     "text": [
      "<class 'pandas.core.frame.DataFrame'>\n",
      "Int64Index: 62 entries, 0 to 30\n",
      "Data columns (total 2 columns):\n",
      " #   Column  Non-Null Count  Dtype         \n",
      "---  ------  --------------  -----         \n",
      " 0   일자      62 non-null     datetime64[ns]\n",
      " 1   교통량     62 non-null     int64         \n",
      "dtypes: datetime64[ns](1), int64(1)\n",
      "memory usage: 1.5 KB\n"
     ]
    }
   ],
   "source": [
    "df_traffic.info()"
   ]
  },
  {
   "cell_type": "code",
   "execution_count": 127,
   "metadata": {},
   "outputs": [],
   "source": [
    "df_time.set_index('datetime', inplace=True)\n",
    "df_traffic.set_index('일자', inplace=True)"
   ]
  },
  {
   "cell_type": "code",
   "execution_count": 128,
   "metadata": {},
   "outputs": [],
   "source": [
    "df= pd.merge(df_time,df_traffic,left_index=True,right_on='일자')"
   ]
  },
  {
   "cell_type": "code",
   "execution_count": 129,
   "metadata": {},
   "outputs": [],
   "source": [
    "df = df.sort_index()"
   ]
  },
  {
   "cell_type": "code",
   "execution_count": 130,
   "metadata": {},
   "outputs": [],
   "source": [
    "df['time_lag_day1'] = df['time'].shift()\n",
    "df['time_lag_day7'] = df['time'].shift(7)\n",
    "df['time_lag_day30'] = df['time'].shift(30)\n",
    "\n",
    "df['교통량_lag_day1'] = df['교통량'].shift()\n",
    "df['교통량_lag_day7'] = df['교통량'].shift(7)\n",
    "df['교통량_lag_day30'] = df['교통량'].shift(30)"
   ]
  },
  {
   "cell_type": "code",
   "execution_count": 136,
   "metadata": {},
   "outputs": [
    {
     "data": {
      "text/html": [
       "<div>\n",
       "<style scoped>\n",
       "    .dataframe tbody tr th:only-of-type {\n",
       "        vertical-align: middle;\n",
       "    }\n",
       "\n",
       "    .dataframe tbody tr th {\n",
       "        vertical-align: top;\n",
       "    }\n",
       "\n",
       "    .dataframe thead th {\n",
       "        text-align: right;\n",
       "    }\n",
       "</style>\n",
       "<table border=\"1\" class=\"dataframe\">\n",
       "  <thead>\n",
       "    <tr style=\"text-align: right;\">\n",
       "      <th></th>\n",
       "      <th>time</th>\n",
       "      <th>교통량</th>\n",
       "      <th>time_lag_day1</th>\n",
       "      <th>time_lag_day7</th>\n",
       "      <th>time_lag_day30</th>\n",
       "      <th>교통량_lag_day1</th>\n",
       "      <th>교통량_lag_day7</th>\n",
       "      <th>교통량_lag_day30</th>\n",
       "    </tr>\n",
       "    <tr>\n",
       "      <th>일자</th>\n",
       "      <th></th>\n",
       "      <th></th>\n",
       "      <th></th>\n",
       "      <th></th>\n",
       "      <th></th>\n",
       "      <th></th>\n",
       "      <th></th>\n",
       "      <th></th>\n",
       "    </tr>\n",
       "  </thead>\n",
       "  <tbody>\n",
       "    <tr>\n",
       "      <th>2022-09-02</th>\n",
       "      <td>288</td>\n",
       "      <td>10</td>\n",
       "      <td>296.0</td>\n",
       "      <td>278.0</td>\n",
       "      <td>301.0</td>\n",
       "      <td>7.0</td>\n",
       "      <td>11.0</td>\n",
       "      <td>16.0</td>\n",
       "    </tr>\n",
       "  </tbody>\n",
       "</table>\n",
       "</div>"
      ],
      "text/plain": [
       "            time  교통량  time_lag_day1  time_lag_day7  time_lag_day30  \\\n",
       "일자                                                                    \n",
       "2022-09-02   288   10          296.0          278.0           301.0   \n",
       "\n",
       "            교통량_lag_day1  교통량_lag_day7  교통량_lag_day30  \n",
       "일자                                                     \n",
       "2022-09-02           7.0          11.0           16.0  "
      ]
     },
     "execution_count": 136,
     "metadata": {},
     "output_type": "execute_result"
    }
   ],
   "source": [
    "df.tail(1)"
   ]
  },
  {
   "cell_type": "code",
   "execution_count": 133,
   "metadata": {},
   "outputs": [],
   "source": [
    "df = df.asfreq('D')"
   ]
  },
  {
   "cell_type": "markdown",
   "metadata": {},
   "source": [
    "-------"
   ]
  },
  {
   "cell_type": "code",
   "execution_count": 138,
   "metadata": {},
   "outputs": [],
   "source": [
    "import joblib\n",
    "\n",
    "import statsmodels.api as sm\n",
    "\n",
    "import warnings\n",
    "from statsmodels.tools.sm_exceptions import ConvergenceWarning\n",
    "warnings.filterwarnings(action='ignore')\n",
    "warnings.simplefilter('ignore', ConvergenceWarning)"
   ]
  },
  {
   "cell_type": "code",
   "execution_count": 141,
   "metadata": {},
   "outputs": [],
   "source": [
    "\n",
    "\n",
    "loaded_model = joblib.load('SARIMAX.joblib')\n",
    "\n",
    "tmp = df.tail(1)\n",
    "\n",
    "pred_loaded = loaded_model.forecast(1,exog=tmp)\n"
   ]
  },
  {
   "cell_type": "code",
   "execution_count": 142,
   "metadata": {},
   "outputs": [
    {
     "data": {
      "text/plain": [
       "1722    282.832195\n",
       "dtype: float64"
      ]
     },
     "execution_count": 142,
     "metadata": {},
     "output_type": "execute_result"
    }
   ],
   "source": [
    "pred_loaded\n",
    "#4시간 43분"
   ]
  }
 ],
 "metadata": {
  "kernelspec": {
   "display_name": "Python 3.9.13 64-bit",
   "language": "python",
   "name": "python3"
  },
  "language_info": {
   "codemirror_mode": {
    "name": "ipython",
    "version": 3
   },
   "file_extension": ".py",
   "mimetype": "text/x-python",
   "name": "python",
   "nbconvert_exporter": "python",
   "pygments_lexer": "ipython3",
   "version": "3.9.13"
  },
  "orig_nbformat": 4,
  "vscode": {
   "interpreter": {
    "hash": "cf92aa13fedf815d5c8dd192b8d835913fde3e8bc926b2a0ad6cc74ef2ba3ca2"
   }
  }
 },
 "nbformat": 4,
 "nbformat_minor": 2
}
