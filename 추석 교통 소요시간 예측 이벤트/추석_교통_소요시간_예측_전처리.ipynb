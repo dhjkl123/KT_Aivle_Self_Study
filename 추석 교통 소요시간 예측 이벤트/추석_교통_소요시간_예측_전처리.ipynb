{
 "cells": [
  {
   "cell_type": "code",
   "execution_count": 102,
   "metadata": {},
   "outputs": [
    {
     "name": "stdout",
     "output_type": "stream",
     "text": [
      "Collecting selenium\n",
      "  Downloading selenium-4.4.3-py3-none-any.whl (985 kB)\n",
      "     ------------------------------------- 986.0/986.0 kB 20.8 MB/s eta 0:00:00\n",
      "Collecting trio~=0.17\n",
      "  Using cached trio-0.21.0-py3-none-any.whl (358 kB)\n",
      "Collecting trio-websocket~=0.9\n",
      "  Using cached trio_websocket-0.9.2-py3-none-any.whl (16 kB)\n",
      "Requirement already satisfied: certifi>=2021.10.8 in c:\\users\\user\\appdata\\local\\programs\\python\\python39\\lib\\site-packages (from selenium) (2022.6.15)\n",
      "Requirement already satisfied: urllib3[socks]~=1.26 in c:\\users\\user\\appdata\\local\\programs\\python\\python39\\lib\\site-packages (from selenium) (1.26.12)\n",
      "Collecting outcome\n",
      "  Using cached outcome-1.2.0-py2.py3-none-any.whl (9.7 kB)\n",
      "Collecting attrs>=19.2.0\n",
      "  Downloading attrs-22.1.0-py2.py3-none-any.whl (58 kB)\n",
      "     ---------------------------------------- 58.8/58.8 kB 3.0 MB/s eta 0:00:00\n",
      "Collecting cffi>=1.14\n",
      "  Downloading cffi-1.15.1-cp39-cp39-win_amd64.whl (179 kB)\n",
      "     ------------------------------------- 179.1/179.1 kB 10.6 MB/s eta 0:00:00\n",
      "Collecting sortedcontainers\n",
      "  Downloading sortedcontainers-2.4.0-py2.py3-none-any.whl (29 kB)\n",
      "Requirement already satisfied: idna in c:\\users\\user\\appdata\\local\\programs\\python\\python39\\lib\\site-packages (from trio~=0.17->selenium) (3.3)\n",
      "Collecting async-generator>=1.9\n",
      "  Downloading async_generator-1.10-py3-none-any.whl (18 kB)\n",
      "Collecting sniffio\n",
      "  Downloading sniffio-1.2.0-py3-none-any.whl (10 kB)\n",
      "Collecting wsproto>=0.14\n",
      "  Downloading wsproto-1.2.0-py3-none-any.whl (24 kB)\n",
      "Collecting PySocks!=1.5.7,<2.0,>=1.5.6\n",
      "  Downloading PySocks-1.7.1-py3-none-any.whl (16 kB)\n",
      "Collecting pycparser\n",
      "  Downloading pycparser-2.21-py2.py3-none-any.whl (118 kB)\n",
      "     ---------------------------------------- 118.7/118.7 kB ? eta 0:00:00\n",
      "Collecting h11<1,>=0.9.0\n",
      "  Using cached h11-0.13.0-py3-none-any.whl (58 kB)\n",
      "Installing collected packages: sortedcontainers, sniffio, PySocks, pycparser, h11, attrs, async-generator, wsproto, outcome, cffi, trio, trio-websocket, selenium\n",
      "Successfully installed PySocks-1.7.1 async-generator-1.10 attrs-22.1.0 cffi-1.15.1 h11-0.13.0 outcome-1.2.0 pycparser-2.21 selenium-4.4.3 sniffio-1.2.0 sortedcontainers-2.4.0 trio-0.21.0 trio-websocket-0.9.2 wsproto-1.2.0\n",
      "Note: you may need to restart the kernel to use updated packages.\n"
     ]
    }
   ],
   "source": [
    "pip install selenium"
   ]
  },
  {
   "cell_type": "code",
   "execution_count": 64,
   "metadata": {},
   "outputs": [],
   "source": [
    "import requests\n",
    "import json\n",
    "import pandas as pd\n",
    "\n",
    "import datetime as dt\n",
    "import time\n",
    "import matplotlib.pyplot as plt\n",
    "import seaborn as sns\n",
    "from itertools import product\n",
    "\n",
    "\n",
    "import scipy.stats as stats\n",
    "import statsmodels.api as sm\n",
    "from statsmodels.graphics.tsaplots import plot_acf, plot_pacf\n",
    "\n",
    "\n",
    "from sklearn.metrics import *\n",
    "\n",
    "import warnings\n",
    "from statsmodels.tools.sm_exceptions import ConvergenceWarning\n",
    "warnings.filterwarnings(action='ignore')\n",
    "warnings.simplefilter('ignore', ConvergenceWarning)"
   ]
  },
  {
   "cell_type": "code",
   "execution_count": 2,
   "metadata": {},
   "outputs": [
    {
     "data": {
      "text/plain": [
       "<Response [200]>"
      ]
     },
     "execution_count": 2,
     "metadata": {},
     "output_type": "execute_result"
    }
   ],
   "source": [
    "url = \"http://data.ex.co.kr/openapi/odtraffic/upDownTrafficAmount\"\n",
    "\n",
    "\n",
    "params = {'key' : '2683876556',\n",
    "          'type' : 'json',\n",
    "          'startUnitCode' : '101',\n",
    "          'endUnitCode' : '140'\n",
    "}\n",
    "\n",
    "response = requests.get(url,params=params)\n",
    "response"
   ]
  },
  {
   "cell_type": "code",
   "execution_count": 2,
   "metadata": {},
   "outputs": [
    {
     "data": {
      "text/plain": [
       "'{\"list\":[{\"pageNo\":null,\"numOfRows\":null,\"tmType\":\"2\",\"trafficAmout\":\"3\",\"tmName\":\"15분\",\"carType\":\"1\",\"sumTm\":\"1645\",\"startUnitCode\":\"101 \",\"startUnitName\":\"서울\",\"endUnitCode\":\"140 \",\"endUnitName\":\"부산\"}],\"count\":1,\"pageNo\":1,\"numOfRows\":10,\"pageSize\":1,\"message\":\"인증키가 유효합니다.\",\"code\":\"SUCCESS\"}'"
      ]
     },
     "execution_count": 2,
     "metadata": {},
     "output_type": "execute_result"
    }
   ],
   "source": [
    "response.text"
   ]
  },
  {
   "cell_type": "code",
   "execution_count": 94,
   "metadata": {},
   "outputs": [],
   "source": [
    "js = json.loads(response.text)"
   ]
  },
  {
   "cell_type": "code",
   "execution_count": 96,
   "metadata": {},
   "outputs": [
    {
     "data": {
      "text/plain": [
       "[{'tmType': '2',\n",
       "  'tmName': '15분',\n",
       "  'carType': '1',\n",
       "  'sumTm': '1745',\n",
       "  'startUnitCode': '101 ',\n",
       "  'startUnitName': '서울',\n",
       "  'endUnitCode': '140 ',\n",
       "  'endUnitName': '부산',\n",
       "  'timeAvg': '16333',\n",
       "  'timeMid': None,\n",
       "  'timeMax': '15356',\n",
       "  'timeMin': '15356'},\n",
       " {'tmType': '2',\n",
       "  'tmName': '15분',\n",
       "  'carType': '1',\n",
       "  'sumTm': '1745',\n",
       "  'startUnitCode': '115 ',\n",
       "  'startUnitName': '대전',\n",
       "  'endUnitCode': '140 ',\n",
       "  'endUnitName': '부산',\n",
       "  'timeAvg': '-1',\n",
       "  'timeMid': None,\n",
       "  'timeMax': '0',\n",
       "  'timeMin': '0'},\n",
       " {'tmType': '2',\n",
       "  'tmName': '15분',\n",
       "  'carType': '1',\n",
       "  'sumTm': '1745',\n",
       "  'startUnitCode': '130 ',\n",
       "  'startUnitName': '동김천',\n",
       "  'endUnitCode': '140 ',\n",
       "  'endUnitName': '부산',\n",
       "  'timeAvg': '-1',\n",
       "  'timeMid': None,\n",
       "  'timeMax': '0',\n",
       "  'timeMin': '0'},\n",
       " {'tmType': '2',\n",
       "  'tmName': '15분',\n",
       "  'carType': '1',\n",
       "  'sumTm': '1745',\n",
       "  'startUnitCode': '132 ',\n",
       "  'startUnitName': '영천',\n",
       "  'endUnitCode': '140 ',\n",
       "  'endUnitName': '부산',\n",
       "  'timeAvg': '3691',\n",
       "  'timeMid': None,\n",
       "  'timeMax': '4316',\n",
       "  'timeMin': '2904'},\n",
       " {'tmType': '2',\n",
       "  'tmName': '15분',\n",
       "  'carType': '1',\n",
       "  'sumTm': '1745',\n",
       "  'startUnitCode': '135 ',\n",
       "  'startUnitName': '경주',\n",
       "  'endUnitCode': '140 ',\n",
       "  'endUnitName': '부산',\n",
       "  'timeAvg': '2511',\n",
       "  'timeMid': None,\n",
       "  'timeMax': '3551',\n",
       "  'timeMin': '2087'},\n",
       " {'tmType': '2',\n",
       "  'tmName': '15분',\n",
       "  'carType': '2',\n",
       "  'sumTm': '1745',\n",
       "  'startUnitCode': '135 ',\n",
       "  'startUnitName': '경주',\n",
       "  'endUnitCode': '140 ',\n",
       "  'endUnitName': '부산',\n",
       "  'timeAvg': '-1',\n",
       "  'timeMid': None,\n",
       "  'timeMax': '0',\n",
       "  'timeMin': '0'},\n",
       " {'tmType': '2',\n",
       "  'tmName': '15분',\n",
       "  'carType': '6',\n",
       "  'sumTm': '1745',\n",
       "  'startUnitCode': '139 ',\n",
       "  'startUnitName': '서울산',\n",
       "  'endUnitCode': '140 ',\n",
       "  'endUnitName': '부산',\n",
       "  'timeAvg': '1267',\n",
       "  'timeMid': None,\n",
       "  'timeMax': '1318',\n",
       "  'timeMin': '1233'},\n",
       " {'tmType': '2',\n",
       "  'tmName': '15분',\n",
       "  'carType': '1',\n",
       "  'sumTm': '1745',\n",
       "  'startUnitCode': '139 ',\n",
       "  'startUnitName': '서울산',\n",
       "  'endUnitCode': '140 ',\n",
       "  'endUnitName': '부산',\n",
       "  'timeAvg': '1255',\n",
       "  'timeMid': None,\n",
       "  'timeMax': '1476',\n",
       "  'timeMin': '1148'},\n",
       " {'tmType': '2',\n",
       "  'tmName': '15분',\n",
       "  'carType': '2',\n",
       "  'sumTm': '1745',\n",
       "  'startUnitCode': '139 ',\n",
       "  'startUnitName': '서울산',\n",
       "  'endUnitCode': '140 ',\n",
       "  'endUnitName': '부산',\n",
       "  'timeAvg': '-1',\n",
       "  'timeMid': None,\n",
       "  'timeMax': '0',\n",
       "  'timeMin': '0'},\n",
       " {'tmType': '2',\n",
       "  'tmName': '15분',\n",
       "  'carType': '1',\n",
       "  'sumTm': '1745',\n",
       "  'startUnitCode': '137 ',\n",
       "  'startUnitName': '통도사',\n",
       "  'endUnitCode': '140 ',\n",
       "  'endUnitName': '부산',\n",
       "  'timeAvg': '1027',\n",
       "  'timeMid': None,\n",
       "  'timeMax': '1160',\n",
       "  'timeMin': '914'},\n",
       " {'tmType': '2',\n",
       "  'tmName': '15분',\n",
       "  'carType': '3',\n",
       "  'sumTm': '1745',\n",
       "  'startUnitCode': '137 ',\n",
       "  'startUnitName': '통도사',\n",
       "  'endUnitCode': '140 ',\n",
       "  'endUnitName': '부산',\n",
       "  'timeAvg': '1016',\n",
       "  'timeMid': None,\n",
       "  'timeMax': '1036',\n",
       "  'timeMin': '1036'},\n",
       " {'tmType': '2',\n",
       "  'tmName': '15분',\n",
       "  'carType': '6',\n",
       "  'sumTm': '1745',\n",
       "  'startUnitCode': '286 ',\n",
       "  'startUnitName': '통도사휴게소',\n",
       "  'endUnitCode': '140 ',\n",
       "  'endUnitName': '부산',\n",
       "  'timeAvg': '1171',\n",
       "  'timeMid': None,\n",
       "  'timeMax': '1202',\n",
       "  'timeMin': '1140'},\n",
       " {'tmType': '2',\n",
       "  'tmName': '15분',\n",
       "  'carType': '1',\n",
       "  'sumTm': '1745',\n",
       "  'startUnitCode': '286 ',\n",
       "  'startUnitName': '통도사휴게소',\n",
       "  'endUnitCode': '140 ',\n",
       "  'endUnitName': '부산',\n",
       "  'timeAvg': '994',\n",
       "  'timeMid': None,\n",
       "  'timeMax': '1203',\n",
       "  'timeMin': '894'},\n",
       " {'tmType': '2',\n",
       "  'tmName': '15분',\n",
       "  'carType': '6',\n",
       "  'sumTm': '1745',\n",
       "  'startUnitCode': '138 ',\n",
       "  'startUnitName': '양산',\n",
       "  'endUnitCode': '140 ',\n",
       "  'endUnitName': '부산',\n",
       "  'timeAvg': '591',\n",
       "  'timeMid': None,\n",
       "  'timeMax': '775',\n",
       "  'timeMin': '538'},\n",
       " {'tmType': '2',\n",
       "  'tmName': '15분',\n",
       "  'carType': '2',\n",
       "  'sumTm': '1745',\n",
       "  'startUnitCode': '138 ',\n",
       "  'startUnitName': '양산',\n",
       "  'endUnitCode': '140 ',\n",
       "  'endUnitName': '부산',\n",
       "  'timeAvg': '654',\n",
       "  'timeMid': None,\n",
       "  'timeMax': '731',\n",
       "  'timeMin': '655'},\n",
       " {'tmType': '2',\n",
       "  'tmName': '15분',\n",
       "  'carType': '1',\n",
       "  'sumTm': '1745',\n",
       "  'startUnitCode': '138 ',\n",
       "  'startUnitName': '양산',\n",
       "  'endUnitCode': '140 ',\n",
       "  'endUnitName': '부산',\n",
       "  'timeAvg': '552',\n",
       "  'timeMid': None,\n",
       "  'timeMax': '675',\n",
       "  'timeMin': '450'},\n",
       " {'tmType': '2',\n",
       "  'tmName': '15분',\n",
       "  'carType': '3',\n",
       "  'sumTm': '1745',\n",
       "  'startUnitCode': '138 ',\n",
       "  'startUnitName': '양산',\n",
       "  'endUnitCode': '140 ',\n",
       "  'endUnitName': '부산',\n",
       "  'timeAvg': '668',\n",
       "  'timeMid': None,\n",
       "  'timeMax': '810',\n",
       "  'timeMin': '673'}]"
      ]
     },
     "execution_count": 96,
     "metadata": {},
     "output_type": "execute_result"
    }
   ],
   "source": [
    "js['list']"
   ]
  },
  {
   "cell_type": "code",
   "execution_count": 97,
   "metadata": {},
   "outputs": [],
   "source": [
    "df = pd.DataFrame(js['list'])"
   ]
  },
  {
   "cell_type": "code",
   "execution_count": 98,
   "metadata": {},
   "outputs": [
    {
     "data": {
      "text/html": [
       "<div>\n",
       "<style scoped>\n",
       "    .dataframe tbody tr th:only-of-type {\n",
       "        vertical-align: middle;\n",
       "    }\n",
       "\n",
       "    .dataframe tbody tr th {\n",
       "        vertical-align: top;\n",
       "    }\n",
       "\n",
       "    .dataframe thead th {\n",
       "        text-align: right;\n",
       "    }\n",
       "</style>\n",
       "<table border=\"1\" class=\"dataframe\">\n",
       "  <thead>\n",
       "    <tr style=\"text-align: right;\">\n",
       "      <th></th>\n",
       "      <th>tmType</th>\n",
       "      <th>tmName</th>\n",
       "      <th>carType</th>\n",
       "      <th>sumTm</th>\n",
       "      <th>startUnitCode</th>\n",
       "      <th>startUnitName</th>\n",
       "      <th>endUnitCode</th>\n",
       "      <th>endUnitName</th>\n",
       "      <th>timeAvg</th>\n",
       "      <th>timeMid</th>\n",
       "      <th>timeMax</th>\n",
       "      <th>timeMin</th>\n",
       "    </tr>\n",
       "  </thead>\n",
       "  <tbody>\n",
       "    <tr>\n",
       "      <th>0</th>\n",
       "      <td>2</td>\n",
       "      <td>15분</td>\n",
       "      <td>1</td>\n",
       "      <td>1745</td>\n",
       "      <td>101</td>\n",
       "      <td>서울</td>\n",
       "      <td>140</td>\n",
       "      <td>부산</td>\n",
       "      <td>16333</td>\n",
       "      <td>None</td>\n",
       "      <td>15356</td>\n",
       "      <td>15356</td>\n",
       "    </tr>\n",
       "    <tr>\n",
       "      <th>1</th>\n",
       "      <td>2</td>\n",
       "      <td>15분</td>\n",
       "      <td>1</td>\n",
       "      <td>1745</td>\n",
       "      <td>115</td>\n",
       "      <td>대전</td>\n",
       "      <td>140</td>\n",
       "      <td>부산</td>\n",
       "      <td>-1</td>\n",
       "      <td>None</td>\n",
       "      <td>0</td>\n",
       "      <td>0</td>\n",
       "    </tr>\n",
       "    <tr>\n",
       "      <th>2</th>\n",
       "      <td>2</td>\n",
       "      <td>15분</td>\n",
       "      <td>1</td>\n",
       "      <td>1745</td>\n",
       "      <td>130</td>\n",
       "      <td>동김천</td>\n",
       "      <td>140</td>\n",
       "      <td>부산</td>\n",
       "      <td>-1</td>\n",
       "      <td>None</td>\n",
       "      <td>0</td>\n",
       "      <td>0</td>\n",
       "    </tr>\n",
       "    <tr>\n",
       "      <th>3</th>\n",
       "      <td>2</td>\n",
       "      <td>15분</td>\n",
       "      <td>1</td>\n",
       "      <td>1745</td>\n",
       "      <td>132</td>\n",
       "      <td>영천</td>\n",
       "      <td>140</td>\n",
       "      <td>부산</td>\n",
       "      <td>3691</td>\n",
       "      <td>None</td>\n",
       "      <td>4316</td>\n",
       "      <td>2904</td>\n",
       "    </tr>\n",
       "    <tr>\n",
       "      <th>4</th>\n",
       "      <td>2</td>\n",
       "      <td>15분</td>\n",
       "      <td>1</td>\n",
       "      <td>1745</td>\n",
       "      <td>135</td>\n",
       "      <td>경주</td>\n",
       "      <td>140</td>\n",
       "      <td>부산</td>\n",
       "      <td>2511</td>\n",
       "      <td>None</td>\n",
       "      <td>3551</td>\n",
       "      <td>2087</td>\n",
       "    </tr>\n",
       "    <tr>\n",
       "      <th>5</th>\n",
       "      <td>2</td>\n",
       "      <td>15분</td>\n",
       "      <td>2</td>\n",
       "      <td>1745</td>\n",
       "      <td>135</td>\n",
       "      <td>경주</td>\n",
       "      <td>140</td>\n",
       "      <td>부산</td>\n",
       "      <td>-1</td>\n",
       "      <td>None</td>\n",
       "      <td>0</td>\n",
       "      <td>0</td>\n",
       "    </tr>\n",
       "    <tr>\n",
       "      <th>6</th>\n",
       "      <td>2</td>\n",
       "      <td>15분</td>\n",
       "      <td>6</td>\n",
       "      <td>1745</td>\n",
       "      <td>139</td>\n",
       "      <td>서울산</td>\n",
       "      <td>140</td>\n",
       "      <td>부산</td>\n",
       "      <td>1267</td>\n",
       "      <td>None</td>\n",
       "      <td>1318</td>\n",
       "      <td>1233</td>\n",
       "    </tr>\n",
       "    <tr>\n",
       "      <th>7</th>\n",
       "      <td>2</td>\n",
       "      <td>15분</td>\n",
       "      <td>1</td>\n",
       "      <td>1745</td>\n",
       "      <td>139</td>\n",
       "      <td>서울산</td>\n",
       "      <td>140</td>\n",
       "      <td>부산</td>\n",
       "      <td>1255</td>\n",
       "      <td>None</td>\n",
       "      <td>1476</td>\n",
       "      <td>1148</td>\n",
       "    </tr>\n",
       "    <tr>\n",
       "      <th>8</th>\n",
       "      <td>2</td>\n",
       "      <td>15분</td>\n",
       "      <td>2</td>\n",
       "      <td>1745</td>\n",
       "      <td>139</td>\n",
       "      <td>서울산</td>\n",
       "      <td>140</td>\n",
       "      <td>부산</td>\n",
       "      <td>-1</td>\n",
       "      <td>None</td>\n",
       "      <td>0</td>\n",
       "      <td>0</td>\n",
       "    </tr>\n",
       "    <tr>\n",
       "      <th>9</th>\n",
       "      <td>2</td>\n",
       "      <td>15분</td>\n",
       "      <td>1</td>\n",
       "      <td>1745</td>\n",
       "      <td>137</td>\n",
       "      <td>통도사</td>\n",
       "      <td>140</td>\n",
       "      <td>부산</td>\n",
       "      <td>1027</td>\n",
       "      <td>None</td>\n",
       "      <td>1160</td>\n",
       "      <td>914</td>\n",
       "    </tr>\n",
       "    <tr>\n",
       "      <th>10</th>\n",
       "      <td>2</td>\n",
       "      <td>15분</td>\n",
       "      <td>3</td>\n",
       "      <td>1745</td>\n",
       "      <td>137</td>\n",
       "      <td>통도사</td>\n",
       "      <td>140</td>\n",
       "      <td>부산</td>\n",
       "      <td>1016</td>\n",
       "      <td>None</td>\n",
       "      <td>1036</td>\n",
       "      <td>1036</td>\n",
       "    </tr>\n",
       "    <tr>\n",
       "      <th>11</th>\n",
       "      <td>2</td>\n",
       "      <td>15분</td>\n",
       "      <td>6</td>\n",
       "      <td>1745</td>\n",
       "      <td>286</td>\n",
       "      <td>통도사휴게소</td>\n",
       "      <td>140</td>\n",
       "      <td>부산</td>\n",
       "      <td>1171</td>\n",
       "      <td>None</td>\n",
       "      <td>1202</td>\n",
       "      <td>1140</td>\n",
       "    </tr>\n",
       "    <tr>\n",
       "      <th>12</th>\n",
       "      <td>2</td>\n",
       "      <td>15분</td>\n",
       "      <td>1</td>\n",
       "      <td>1745</td>\n",
       "      <td>286</td>\n",
       "      <td>통도사휴게소</td>\n",
       "      <td>140</td>\n",
       "      <td>부산</td>\n",
       "      <td>994</td>\n",
       "      <td>None</td>\n",
       "      <td>1203</td>\n",
       "      <td>894</td>\n",
       "    </tr>\n",
       "    <tr>\n",
       "      <th>13</th>\n",
       "      <td>2</td>\n",
       "      <td>15분</td>\n",
       "      <td>6</td>\n",
       "      <td>1745</td>\n",
       "      <td>138</td>\n",
       "      <td>양산</td>\n",
       "      <td>140</td>\n",
       "      <td>부산</td>\n",
       "      <td>591</td>\n",
       "      <td>None</td>\n",
       "      <td>775</td>\n",
       "      <td>538</td>\n",
       "    </tr>\n",
       "    <tr>\n",
       "      <th>14</th>\n",
       "      <td>2</td>\n",
       "      <td>15분</td>\n",
       "      <td>2</td>\n",
       "      <td>1745</td>\n",
       "      <td>138</td>\n",
       "      <td>양산</td>\n",
       "      <td>140</td>\n",
       "      <td>부산</td>\n",
       "      <td>654</td>\n",
       "      <td>None</td>\n",
       "      <td>731</td>\n",
       "      <td>655</td>\n",
       "    </tr>\n",
       "    <tr>\n",
       "      <th>15</th>\n",
       "      <td>2</td>\n",
       "      <td>15분</td>\n",
       "      <td>1</td>\n",
       "      <td>1745</td>\n",
       "      <td>138</td>\n",
       "      <td>양산</td>\n",
       "      <td>140</td>\n",
       "      <td>부산</td>\n",
       "      <td>552</td>\n",
       "      <td>None</td>\n",
       "      <td>675</td>\n",
       "      <td>450</td>\n",
       "    </tr>\n",
       "    <tr>\n",
       "      <th>16</th>\n",
       "      <td>2</td>\n",
       "      <td>15분</td>\n",
       "      <td>3</td>\n",
       "      <td>1745</td>\n",
       "      <td>138</td>\n",
       "      <td>양산</td>\n",
       "      <td>140</td>\n",
       "      <td>부산</td>\n",
       "      <td>668</td>\n",
       "      <td>None</td>\n",
       "      <td>810</td>\n",
       "      <td>673</td>\n",
       "    </tr>\n",
       "  </tbody>\n",
       "</table>\n",
       "</div>"
      ],
      "text/plain": [
       "   tmType tmName carType sumTm startUnitCode startUnitName endUnitCode  \\\n",
       "0       2    15분       1  1745          101             서울        140    \n",
       "1       2    15분       1  1745          115             대전        140    \n",
       "2       2    15분       1  1745          130            동김천        140    \n",
       "3       2    15분       1  1745          132             영천        140    \n",
       "4       2    15분       1  1745          135             경주        140    \n",
       "5       2    15분       2  1745          135             경주        140    \n",
       "6       2    15분       6  1745          139            서울산        140    \n",
       "7       2    15분       1  1745          139            서울산        140    \n",
       "8       2    15분       2  1745          139            서울산        140    \n",
       "9       2    15분       1  1745          137            통도사        140    \n",
       "10      2    15분       3  1745          137            통도사        140    \n",
       "11      2    15분       6  1745          286         통도사휴게소        140    \n",
       "12      2    15분       1  1745          286         통도사휴게소        140    \n",
       "13      2    15분       6  1745          138             양산        140    \n",
       "14      2    15분       2  1745          138             양산        140    \n",
       "15      2    15분       1  1745          138             양산        140    \n",
       "16      2    15분       3  1745          138             양산        140    \n",
       "\n",
       "   endUnitName timeAvg timeMid timeMax timeMin  \n",
       "0           부산   16333    None   15356   15356  \n",
       "1           부산      -1    None       0       0  \n",
       "2           부산      -1    None       0       0  \n",
       "3           부산    3691    None    4316    2904  \n",
       "4           부산    2511    None    3551    2087  \n",
       "5           부산      -1    None       0       0  \n",
       "6           부산    1267    None    1318    1233  \n",
       "7           부산    1255    None    1476    1148  \n",
       "8           부산      -1    None       0       0  \n",
       "9           부산    1027    None    1160     914  \n",
       "10          부산    1016    None    1036    1036  \n",
       "11          부산    1171    None    1202    1140  \n",
       "12          부산     994    None    1203     894  \n",
       "13          부산     591    None     775     538  \n",
       "14          부산     654    None     731     655  \n",
       "15          부산     552    None     675     450  \n",
       "16          부산     668    None     810     673  "
      ]
     },
     "execution_count": 98,
     "metadata": {},
     "output_type": "execute_result"
    }
   ],
   "source": [
    "df"
   ]
  },
  {
   "cell_type": "code",
   "execution_count": 87,
   "metadata": {},
   "outputs": [
    {
     "data": {
      "text/plain": [
       "array(['5', '6', '7'], dtype=object)"
      ]
     },
     "execution_count": 87,
     "metadata": {},
     "output_type": "execute_result"
    }
   ],
   "source": [
    "df[df['sphlDfttCode'] == '2']['sphlDfttScopTypeCode'].unique()"
   ]
  },
  {
   "cell_type": "code",
   "execution_count": 9,
   "metadata": {},
   "outputs": [],
   "source": []
  },
  {
   "cell_type": "code",
   "execution_count": 145,
   "metadata": {},
   "outputs": [],
   "source": [
    "day = dt.datetime(2021, 8, 22)\n",
    "term = dt.timedelta(days=30)\n",
    "term_1 = dt.timedelta(days=1)"
   ]
  },
  {
   "cell_type": "code",
   "execution_count": 4,
   "metadata": {},
   "outputs": [],
   "source": [
    "from selenium import webdriver\n",
    "from selenium.webdriver.common.by import By"
   ]
  },
  {
   "cell_type": "code",
   "execution_count": 104,
   "metadata": {},
   "outputs": [],
   "source": [
    "\n",
    "\n",
    "# 크롬을 실행하는 driver 객체를 만들면 크롬이 실행된다.\n",
    "driver = webdriver.Chrome()\n",
    "\n",
    "# driver 객체의 get메소드를 사용해서 원하는 URL로 이동할 수 있다.\n",
    "driver.get(\"http://data.ex.co.kr/portal/time/timeCity#\")\n",
    "\n"
   ]
  },
  {
   "cell_type": "code",
   "execution_count": 148,
   "metadata": {},
   "outputs": [],
   "source": [
    "for i in range(0,42):\n",
    "\n",
    "    driver.find_element(By.CSS_SELECTOR,'#searchDayFrom').clear()\n",
    "    driver.find_element(By.CSS_SELECTOR,'#searchDay').clear()\n",
    "    time.sleep(1)\n",
    "    day_from = day - term\n",
    "    driver.find_element(By.CSS_SELECTOR,'#searchDayFrom').send_keys(day_from.strftime(\"%Y.%m.%d\"))\n",
    "    driver.find_element(By.CSS_SELECTOR,'#searchDay').send_keys(day.strftime(\"%Y.%m.%d\"))\n",
    "    day = day_from - term_1\n",
    "    driver.find_element(By.CSS_SELECTOR,'#frmSearch > div:nth-child(2) > div.item > div > span:nth-child(1) > img').click()\n",
    "    driver.find_element(By.CSS_SELECTOR,'#btnSearch > span').click()\n",
    "    time.sleep(6)\n",
    "    driver.find_element(By.CSS_SELECTOR,'#btnCsv > span').click()\n",
    "    time.sleep(3)"
   ]
  },
  {
   "cell_type": "code",
   "execution_count": 24,
   "metadata": {},
   "outputs": [],
   "source": [
    "driver.close()"
   ]
  },
  {
   "cell_type": "markdown",
   "metadata": {},
   "source": [
    "----"
   ]
  },
  {
   "cell_type": "code",
   "execution_count": 5,
   "metadata": {},
   "outputs": [],
   "source": [
    "# 크롬을 실행하는 driver 객체를 만들면 크롬이 실행된다.\n",
    "driver = webdriver.Chrome()\n",
    "\n",
    "# driver 객체의 get메소드를 사용해서 원하는 URL로 이동할 수 있다.\n",
    "driver.get(\"http://data.ex.co.kr/portal/traffic/trafficUpDownIc#\")"
   ]
  },
  {
   "cell_type": "code",
   "execution_count": 6,
   "metadata": {},
   "outputs": [],
   "source": [
    "day = dt.datetime(2022, 9, 1)\n",
    "term = dt.timedelta(days=30)\n",
    "term_1 = dt.timedelta(days=1)"
   ]
  },
  {
   "cell_type": "code",
   "execution_count": 7,
   "metadata": {},
   "outputs": [],
   "source": [
    "for i in range(0,60):\n",
    "    driver.find_element(By.CSS_SELECTOR,'#searchDayFrom').clear()\n",
    "    driver.find_element(By.CSS_SELECTOR,'#searchDay').clear()\n",
    "    time.sleep(1)\n",
    "    day_from = day - term\n",
    "    driver.find_element(By.CSS_SELECTOR,'#searchDayFrom').send_keys(day_from.strftime(\"%Y.%m.%d\"))\n",
    "    driver.find_element(By.CSS_SELECTOR,'#searchDay').send_keys(day.strftime(\"%Y.%m.%d\"))\n",
    "    day = day_from - term_1\n",
    "    driver.find_element(By.CSS_SELECTOR,'#frmSearch > div:nth-child(2) > div:nth-child(4) > span:nth-child(1) > img').click()\n",
    "    driver.find_element(By.CSS_SELECTOR,'#btnSearch > span').click()\n",
    "    time.sleep(3)\n",
    "    driver.find_element(By.CSS_SELECTOR,'#btnCsv > span').click()\n",
    "    time.sleep(2)"
   ]
  },
  {
   "cell_type": "code",
   "execution_count": 187,
   "metadata": {},
   "outputs": [],
   "source": [
    "df_sample = pd.read_csv('./통행시간/OpenOASIS (1).csv',encoding='cp949')"
   ]
  },
  {
   "cell_type": "code",
   "execution_count": 211,
   "metadata": {},
   "outputs": [
    {
     "data": {
      "text/html": [
       "<div>\n",
       "<style scoped>\n",
       "    .dataframe tbody tr th:only-of-type {\n",
       "        vertical-align: middle;\n",
       "    }\n",
       "\n",
       "    .dataframe tbody tr th {\n",
       "        vertical-align: top;\n",
       "    }\n",
       "\n",
       "    .dataframe thead th {\n",
       "        text-align: right;\n",
       "    }\n",
       "</style>\n",
       "<table border=\"1\" class=\"dataframe\">\n",
       "  <thead>\n",
       "    <tr style=\"text-align: right;\">\n",
       "      <th></th>\n",
       "      <th>출발</th>\n",
       "      <th>도착</th>\n",
       "      <th>자료종류</th>\n",
       "      <th>시간</th>\n",
       "      <th>2022.08.29</th>\n",
       "      <th>2022.08.28</th>\n",
       "      <th>2022.08.27</th>\n",
       "      <th>2022.08.26</th>\n",
       "      <th>2022.08.25</th>\n",
       "      <th>2022.08.24</th>\n",
       "      <th>...</th>\n",
       "      <th>2022.08.08</th>\n",
       "      <th>2022.08.07</th>\n",
       "      <th>2022.08.06</th>\n",
       "      <th>2022.08.05</th>\n",
       "      <th>2022.08.04</th>\n",
       "      <th>2022.08.03</th>\n",
       "      <th>2022.08.02</th>\n",
       "      <th>2022.08.01</th>\n",
       "      <th>2022.07.31</th>\n",
       "      <th>2022.07.30</th>\n",
       "    </tr>\n",
       "  </thead>\n",
       "  <tbody>\n",
       "    <tr>\n",
       "      <th>0</th>\n",
       "      <td>서울</td>\n",
       "      <td>부산</td>\n",
       "      <td>평균값</td>\n",
       "      <td>00시</td>\n",
       "      <td>249</td>\n",
       "      <td>0</td>\n",
       "      <td>239</td>\n",
       "      <td>251</td>\n",
       "      <td>0</td>\n",
       "      <td>211</td>\n",
       "      <td>...</td>\n",
       "      <td>254</td>\n",
       "      <td>215</td>\n",
       "      <td>270</td>\n",
       "      <td>325</td>\n",
       "      <td>0</td>\n",
       "      <td>225</td>\n",
       "      <td>0</td>\n",
       "      <td>261</td>\n",
       "      <td>195</td>\n",
       "      <td>272</td>\n",
       "    </tr>\n",
       "    <tr>\n",
       "      <th>1</th>\n",
       "      <td>서울</td>\n",
       "      <td>부산</td>\n",
       "      <td>평균값</td>\n",
       "      <td>01시</td>\n",
       "      <td>246</td>\n",
       "      <td>296</td>\n",
       "      <td>0</td>\n",
       "      <td>260</td>\n",
       "      <td>246</td>\n",
       "      <td>243</td>\n",
       "      <td>...</td>\n",
       "      <td>0</td>\n",
       "      <td>213</td>\n",
       "      <td>262</td>\n",
       "      <td>0</td>\n",
       "      <td>0</td>\n",
       "      <td>0</td>\n",
       "      <td>368</td>\n",
       "      <td>256</td>\n",
       "      <td>212</td>\n",
       "      <td>273</td>\n",
       "    </tr>\n",
       "    <tr>\n",
       "      <th>2</th>\n",
       "      <td>서울</td>\n",
       "      <td>부산</td>\n",
       "      <td>평균값</td>\n",
       "      <td>02시</td>\n",
       "      <td>248</td>\n",
       "      <td>279</td>\n",
       "      <td>0</td>\n",
       "      <td>0</td>\n",
       "      <td>268</td>\n",
       "      <td>243</td>\n",
       "      <td>...</td>\n",
       "      <td>244</td>\n",
       "      <td>0</td>\n",
       "      <td>255</td>\n",
       "      <td>296</td>\n",
       "      <td>0</td>\n",
       "      <td>0</td>\n",
       "      <td>312</td>\n",
       "      <td>0</td>\n",
       "      <td>0</td>\n",
       "      <td>246</td>\n",
       "    </tr>\n",
       "    <tr>\n",
       "      <th>3</th>\n",
       "      <td>서울</td>\n",
       "      <td>부산</td>\n",
       "      <td>평균값</td>\n",
       "      <td>03시</td>\n",
       "      <td>0</td>\n",
       "      <td>0</td>\n",
       "      <td>0</td>\n",
       "      <td>0</td>\n",
       "      <td>0</td>\n",
       "      <td>282</td>\n",
       "      <td>...</td>\n",
       "      <td>241</td>\n",
       "      <td>0</td>\n",
       "      <td>248</td>\n",
       "      <td>0</td>\n",
       "      <td>221</td>\n",
       "      <td>0</td>\n",
       "      <td>306</td>\n",
       "      <td>257</td>\n",
       "      <td>258</td>\n",
       "      <td>266</td>\n",
       "    </tr>\n",
       "    <tr>\n",
       "      <th>4</th>\n",
       "      <td>서울</td>\n",
       "      <td>부산</td>\n",
       "      <td>평균값</td>\n",
       "      <td>04시</td>\n",
       "      <td>237</td>\n",
       "      <td>264</td>\n",
       "      <td>335</td>\n",
       "      <td>0</td>\n",
       "      <td>0</td>\n",
       "      <td>310</td>\n",
       "      <td>...</td>\n",
       "      <td>0</td>\n",
       "      <td>206</td>\n",
       "      <td>0</td>\n",
       "      <td>0</td>\n",
       "      <td>226</td>\n",
       "      <td>234</td>\n",
       "      <td>0</td>\n",
       "      <td>294</td>\n",
       "      <td>0</td>\n",
       "      <td>251</td>\n",
       "    </tr>\n",
       "    <tr>\n",
       "      <th>5</th>\n",
       "      <td>서울</td>\n",
       "      <td>부산</td>\n",
       "      <td>평균값</td>\n",
       "      <td>05시</td>\n",
       "      <td>0</td>\n",
       "      <td>0</td>\n",
       "      <td>0</td>\n",
       "      <td>260</td>\n",
       "      <td>0</td>\n",
       "      <td>258</td>\n",
       "      <td>...</td>\n",
       "      <td>225</td>\n",
       "      <td>0</td>\n",
       "      <td>0</td>\n",
       "      <td>0</td>\n",
       "      <td>0</td>\n",
       "      <td>404</td>\n",
       "      <td>0</td>\n",
       "      <td>0</td>\n",
       "      <td>0</td>\n",
       "      <td>241</td>\n",
       "    </tr>\n",
       "    <tr>\n",
       "      <th>6</th>\n",
       "      <td>서울</td>\n",
       "      <td>부산</td>\n",
       "      <td>평균값</td>\n",
       "      <td>06시</td>\n",
       "      <td>236</td>\n",
       "      <td>252</td>\n",
       "      <td>0</td>\n",
       "      <td>0</td>\n",
       "      <td>0</td>\n",
       "      <td>250</td>\n",
       "      <td>...</td>\n",
       "      <td>225</td>\n",
       "      <td>0</td>\n",
       "      <td>245</td>\n",
       "      <td>272</td>\n",
       "      <td>0</td>\n",
       "      <td>0</td>\n",
       "      <td>0</td>\n",
       "      <td>0</td>\n",
       "      <td>229</td>\n",
       "      <td>0</td>\n",
       "    </tr>\n",
       "    <tr>\n",
       "      <th>7</th>\n",
       "      <td>서울</td>\n",
       "      <td>부산</td>\n",
       "      <td>평균값</td>\n",
       "      <td>07시</td>\n",
       "      <td>0</td>\n",
       "      <td>0</td>\n",
       "      <td>0</td>\n",
       "      <td>291</td>\n",
       "      <td>251</td>\n",
       "      <td>236</td>\n",
       "      <td>...</td>\n",
       "      <td>231</td>\n",
       "      <td>277</td>\n",
       "      <td>0</td>\n",
       "      <td>269</td>\n",
       "      <td>0</td>\n",
       "      <td>0</td>\n",
       "      <td>0</td>\n",
       "      <td>0</td>\n",
       "      <td>270</td>\n",
       "      <td>274</td>\n",
       "    </tr>\n",
       "    <tr>\n",
       "      <th>8</th>\n",
       "      <td>서울</td>\n",
       "      <td>부산</td>\n",
       "      <td>평균값</td>\n",
       "      <td>08시</td>\n",
       "      <td>239</td>\n",
       "      <td>0</td>\n",
       "      <td>248</td>\n",
       "      <td>284</td>\n",
       "      <td>0</td>\n",
       "      <td>236</td>\n",
       "      <td>...</td>\n",
       "      <td>248</td>\n",
       "      <td>310</td>\n",
       "      <td>235</td>\n",
       "      <td>261</td>\n",
       "      <td>235</td>\n",
       "      <td>0</td>\n",
       "      <td>0</td>\n",
       "      <td>290</td>\n",
       "      <td>0</td>\n",
       "      <td>311</td>\n",
       "    </tr>\n",
       "    <tr>\n",
       "      <th>9</th>\n",
       "      <td>서울</td>\n",
       "      <td>부산</td>\n",
       "      <td>평균값</td>\n",
       "      <td>09시</td>\n",
       "      <td>241</td>\n",
       "      <td>0</td>\n",
       "      <td>0</td>\n",
       "      <td>280</td>\n",
       "      <td>0</td>\n",
       "      <td>0</td>\n",
       "      <td>...</td>\n",
       "      <td>0</td>\n",
       "      <td>0</td>\n",
       "      <td>226</td>\n",
       "      <td>252</td>\n",
       "      <td>233</td>\n",
       "      <td>0</td>\n",
       "      <td>0</td>\n",
       "      <td>279</td>\n",
       "      <td>272</td>\n",
       "      <td>267</td>\n",
       "    </tr>\n",
       "    <tr>\n",
       "      <th>10</th>\n",
       "      <td>서울</td>\n",
       "      <td>부산</td>\n",
       "      <td>평균값</td>\n",
       "      <td>10시</td>\n",
       "      <td>0</td>\n",
       "      <td>245</td>\n",
       "      <td>310</td>\n",
       "      <td>276</td>\n",
       "      <td>292</td>\n",
       "      <td>0</td>\n",
       "      <td>...</td>\n",
       "      <td>239</td>\n",
       "      <td>293</td>\n",
       "      <td>249</td>\n",
       "      <td>280</td>\n",
       "      <td>243</td>\n",
       "      <td>333</td>\n",
       "      <td>258</td>\n",
       "      <td>278</td>\n",
       "      <td>269</td>\n",
       "      <td>288</td>\n",
       "    </tr>\n",
       "    <tr>\n",
       "      <th>11</th>\n",
       "      <td>서울</td>\n",
       "      <td>부산</td>\n",
       "      <td>평균값</td>\n",
       "      <td>11시</td>\n",
       "      <td>258</td>\n",
       "      <td>267</td>\n",
       "      <td>0</td>\n",
       "      <td>274</td>\n",
       "      <td>0</td>\n",
       "      <td>0</td>\n",
       "      <td>...</td>\n",
       "      <td>238</td>\n",
       "      <td>270</td>\n",
       "      <td>254</td>\n",
       "      <td>291</td>\n",
       "      <td>254</td>\n",
       "      <td>320</td>\n",
       "      <td>265</td>\n",
       "      <td>294</td>\n",
       "      <td>272</td>\n",
       "      <td>295</td>\n",
       "    </tr>\n",
       "    <tr>\n",
       "      <th>12</th>\n",
       "      <td>서울</td>\n",
       "      <td>부산</td>\n",
       "      <td>평균값</td>\n",
       "      <td>12시</td>\n",
       "      <td>0</td>\n",
       "      <td>282</td>\n",
       "      <td>0</td>\n",
       "      <td>0</td>\n",
       "      <td>265</td>\n",
       "      <td>272</td>\n",
       "      <td>...</td>\n",
       "      <td>0</td>\n",
       "      <td>274</td>\n",
       "      <td>267</td>\n",
       "      <td>285</td>\n",
       "      <td>273</td>\n",
       "      <td>306</td>\n",
       "      <td>275</td>\n",
       "      <td>324</td>\n",
       "      <td>274</td>\n",
       "      <td>301</td>\n",
       "    </tr>\n",
       "    <tr>\n",
       "      <th>13</th>\n",
       "      <td>서울</td>\n",
       "      <td>부산</td>\n",
       "      <td>평균값</td>\n",
       "      <td>13시</td>\n",
       "      <td>253</td>\n",
       "      <td>277</td>\n",
       "      <td>0</td>\n",
       "      <td>270</td>\n",
       "      <td>330</td>\n",
       "      <td>276</td>\n",
       "      <td>...</td>\n",
       "      <td>251</td>\n",
       "      <td>0</td>\n",
       "      <td>276</td>\n",
       "      <td>285</td>\n",
       "      <td>279</td>\n",
       "      <td>297</td>\n",
       "      <td>0</td>\n",
       "      <td>307</td>\n",
       "      <td>282</td>\n",
       "      <td>0</td>\n",
       "    </tr>\n",
       "    <tr>\n",
       "      <th>14</th>\n",
       "      <td>서울</td>\n",
       "      <td>부산</td>\n",
       "      <td>평균값</td>\n",
       "      <td>14시</td>\n",
       "      <td>252</td>\n",
       "      <td>267</td>\n",
       "      <td>265</td>\n",
       "      <td>279</td>\n",
       "      <td>271</td>\n",
       "      <td>269</td>\n",
       "      <td>...</td>\n",
       "      <td>273</td>\n",
       "      <td>279</td>\n",
       "      <td>0</td>\n",
       "      <td>275</td>\n",
       "      <td>294</td>\n",
       "      <td>293</td>\n",
       "      <td>300</td>\n",
       "      <td>296</td>\n",
       "      <td>292</td>\n",
       "      <td>340</td>\n",
       "    </tr>\n",
       "    <tr>\n",
       "      <th>15</th>\n",
       "      <td>서울</td>\n",
       "      <td>부산</td>\n",
       "      <td>평균값</td>\n",
       "      <td>15시</td>\n",
       "      <td>265</td>\n",
       "      <td>0</td>\n",
       "      <td>303</td>\n",
       "      <td>0</td>\n",
       "      <td>282</td>\n",
       "      <td>0</td>\n",
       "      <td>...</td>\n",
       "      <td>275</td>\n",
       "      <td>286</td>\n",
       "      <td>0</td>\n",
       "      <td>271</td>\n",
       "      <td>319</td>\n",
       "      <td>293</td>\n",
       "      <td>293</td>\n",
       "      <td>310</td>\n",
       "      <td>0</td>\n",
       "      <td>374</td>\n",
       "    </tr>\n",
       "    <tr>\n",
       "      <th>16</th>\n",
       "      <td>서울</td>\n",
       "      <td>부산</td>\n",
       "      <td>평균값</td>\n",
       "      <td>16시</td>\n",
       "      <td>0</td>\n",
       "      <td>0</td>\n",
       "      <td>0</td>\n",
       "      <td>286</td>\n",
       "      <td>283</td>\n",
       "      <td>265</td>\n",
       "      <td>...</td>\n",
       "      <td>282</td>\n",
       "      <td>265</td>\n",
       "      <td>283</td>\n",
       "      <td>282</td>\n",
       "      <td>303</td>\n",
       "      <td>298</td>\n",
       "      <td>303</td>\n",
       "      <td>314</td>\n",
       "      <td>310</td>\n",
       "      <td>411</td>\n",
       "    </tr>\n",
       "    <tr>\n",
       "      <th>17</th>\n",
       "      <td>서울</td>\n",
       "      <td>부산</td>\n",
       "      <td>평균값</td>\n",
       "      <td>17시</td>\n",
       "      <td>277</td>\n",
       "      <td>270</td>\n",
       "      <td>330</td>\n",
       "      <td>286</td>\n",
       "      <td>275</td>\n",
       "      <td>283</td>\n",
       "      <td>...</td>\n",
       "      <td>284</td>\n",
       "      <td>281</td>\n",
       "      <td>287</td>\n",
       "      <td>317</td>\n",
       "      <td>303</td>\n",
       "      <td>305</td>\n",
       "      <td>310</td>\n",
       "      <td>315</td>\n",
       "      <td>312</td>\n",
       "      <td>399</td>\n",
       "    </tr>\n",
       "    <tr>\n",
       "      <th>18</th>\n",
       "      <td>서울</td>\n",
       "      <td>부산</td>\n",
       "      <td>평균값</td>\n",
       "      <td>18시</td>\n",
       "      <td>289</td>\n",
       "      <td>306</td>\n",
       "      <td>328</td>\n",
       "      <td>289</td>\n",
       "      <td>267</td>\n",
       "      <td>277</td>\n",
       "      <td>...</td>\n",
       "      <td>290</td>\n",
       "      <td>297</td>\n",
       "      <td>276</td>\n",
       "      <td>293</td>\n",
       "      <td>285</td>\n",
       "      <td>313</td>\n",
       "      <td>292</td>\n",
       "      <td>331</td>\n",
       "      <td>317</td>\n",
       "      <td>387</td>\n",
       "    </tr>\n",
       "    <tr>\n",
       "      <th>19</th>\n",
       "      <td>서울</td>\n",
       "      <td>부산</td>\n",
       "      <td>평균값</td>\n",
       "      <td>19시</td>\n",
       "      <td>303</td>\n",
       "      <td>305</td>\n",
       "      <td>342</td>\n",
       "      <td>296</td>\n",
       "      <td>276</td>\n",
       "      <td>267</td>\n",
       "      <td>...</td>\n",
       "      <td>283</td>\n",
       "      <td>292</td>\n",
       "      <td>0</td>\n",
       "      <td>301</td>\n",
       "      <td>289</td>\n",
       "      <td>300</td>\n",
       "      <td>298</td>\n",
       "      <td>316</td>\n",
       "      <td>314</td>\n",
       "      <td>355</td>\n",
       "    </tr>\n",
       "    <tr>\n",
       "      <th>20</th>\n",
       "      <td>서울</td>\n",
       "      <td>부산</td>\n",
       "      <td>평균값</td>\n",
       "      <td>20시</td>\n",
       "      <td>284</td>\n",
       "      <td>0</td>\n",
       "      <td>326</td>\n",
       "      <td>0</td>\n",
       "      <td>301</td>\n",
       "      <td>268</td>\n",
       "      <td>...</td>\n",
       "      <td>283</td>\n",
       "      <td>292</td>\n",
       "      <td>268</td>\n",
       "      <td>290</td>\n",
       "      <td>282</td>\n",
       "      <td>282</td>\n",
       "      <td>0</td>\n",
       "      <td>305</td>\n",
       "      <td>324</td>\n",
       "      <td>344</td>\n",
       "    </tr>\n",
       "    <tr>\n",
       "      <th>21</th>\n",
       "      <td>서울</td>\n",
       "      <td>부산</td>\n",
       "      <td>평균값</td>\n",
       "      <td>21시</td>\n",
       "      <td>0</td>\n",
       "      <td>0</td>\n",
       "      <td>311</td>\n",
       "      <td>282</td>\n",
       "      <td>296</td>\n",
       "      <td>266</td>\n",
       "      <td>...</td>\n",
       "      <td>279</td>\n",
       "      <td>284</td>\n",
       "      <td>252</td>\n",
       "      <td>300</td>\n",
       "      <td>296</td>\n",
       "      <td>318</td>\n",
       "      <td>291</td>\n",
       "      <td>291</td>\n",
       "      <td>335</td>\n",
       "      <td>339</td>\n",
       "    </tr>\n",
       "    <tr>\n",
       "      <th>22</th>\n",
       "      <td>서울</td>\n",
       "      <td>부산</td>\n",
       "      <td>평균값</td>\n",
       "      <td>22시</td>\n",
       "      <td>0</td>\n",
       "      <td>305</td>\n",
       "      <td>0</td>\n",
       "      <td>298</td>\n",
       "      <td>0</td>\n",
       "      <td>0</td>\n",
       "      <td>...</td>\n",
       "      <td>269</td>\n",
       "      <td>293</td>\n",
       "      <td>0</td>\n",
       "      <td>299</td>\n",
       "      <td>0</td>\n",
       "      <td>310</td>\n",
       "      <td>320</td>\n",
       "      <td>298</td>\n",
       "      <td>324</td>\n",
       "      <td>319</td>\n",
       "    </tr>\n",
       "    <tr>\n",
       "      <th>23</th>\n",
       "      <td>서울</td>\n",
       "      <td>부산</td>\n",
       "      <td>평균값</td>\n",
       "      <td>23시</td>\n",
       "      <td>316</td>\n",
       "      <td>295</td>\n",
       "      <td>292</td>\n",
       "      <td>281</td>\n",
       "      <td>275</td>\n",
       "      <td>274</td>\n",
       "      <td>...</td>\n",
       "      <td>279</td>\n",
       "      <td>270</td>\n",
       "      <td>0</td>\n",
       "      <td>269</td>\n",
       "      <td>0</td>\n",
       "      <td>295</td>\n",
       "      <td>314</td>\n",
       "      <td>290</td>\n",
       "      <td>0</td>\n",
       "      <td>0</td>\n",
       "    </tr>\n",
       "  </tbody>\n",
       "</table>\n",
       "<p>24 rows × 35 columns</p>\n",
       "</div>"
      ],
      "text/plain": [
       "    출발  도착 자료종류   시간  2022.08.29 2022.08.28 2022.08.27 2022.08.26 2022.08.25  \\\n",
       "0   서울  부산  평균값  00시         249          0        239        251          0   \n",
       "1   서울  부산  평균값  01시         246        296          0        260        246   \n",
       "2   서울  부산  평균값  02시         248        279          0          0        268   \n",
       "3   서울  부산  평균값  03시           0          0          0          0          0   \n",
       "4   서울  부산  평균값  04시         237        264        335          0          0   \n",
       "5   서울  부산  평균값  05시           0          0          0        260          0   \n",
       "6   서울  부산  평균값  06시         236        252          0          0          0   \n",
       "7   서울  부산  평균값  07시           0          0          0        291        251   \n",
       "8   서울  부산  평균값  08시         239          0        248        284          0   \n",
       "9   서울  부산  평균값  09시         241          0          0        280          0   \n",
       "10  서울  부산  평균값  10시           0        245        310        276        292   \n",
       "11  서울  부산  평균값  11시         258        267          0        274          0   \n",
       "12  서울  부산  평균값  12시           0        282          0          0        265   \n",
       "13  서울  부산  평균값  13시         253        277          0        270        330   \n",
       "14  서울  부산  평균값  14시         252        267        265        279        271   \n",
       "15  서울  부산  평균값  15시         265          0        303          0        282   \n",
       "16  서울  부산  평균값  16시           0          0          0        286        283   \n",
       "17  서울  부산  평균값  17시         277        270        330        286        275   \n",
       "18  서울  부산  평균값  18시         289        306        328        289        267   \n",
       "19  서울  부산  평균값  19시         303        305        342        296        276   \n",
       "20  서울  부산  평균값  20시         284          0        326          0        301   \n",
       "21  서울  부산  평균값  21시           0          0        311        282        296   \n",
       "22  서울  부산  평균값  22시           0        305          0        298          0   \n",
       "23  서울  부산  평균값  23시         316        295        292        281        275   \n",
       "\n",
       "   2022.08.24  ... 2022.08.08 2022.08.07 2022.08.06 2022.08.05 2022.08.04  \\\n",
       "0         211  ...        254        215        270        325          0   \n",
       "1         243  ...          0        213        262          0          0   \n",
       "2         243  ...        244          0        255        296          0   \n",
       "3         282  ...        241          0        248          0        221   \n",
       "4         310  ...          0        206          0          0        226   \n",
       "5         258  ...        225          0          0          0          0   \n",
       "6         250  ...        225          0        245        272          0   \n",
       "7         236  ...        231        277          0        269          0   \n",
       "8         236  ...        248        310        235        261        235   \n",
       "9           0  ...          0          0        226        252        233   \n",
       "10          0  ...        239        293        249        280        243   \n",
       "11          0  ...        238        270        254        291        254   \n",
       "12        272  ...          0        274        267        285        273   \n",
       "13        276  ...        251          0        276        285        279   \n",
       "14        269  ...        273        279          0        275        294   \n",
       "15          0  ...        275        286          0        271        319   \n",
       "16        265  ...        282        265        283        282        303   \n",
       "17        283  ...        284        281        287        317        303   \n",
       "18        277  ...        290        297        276        293        285   \n",
       "19        267  ...        283        292          0        301        289   \n",
       "20        268  ...        283        292        268        290        282   \n",
       "21        266  ...        279        284        252        300        296   \n",
       "22          0  ...        269        293          0        299          0   \n",
       "23        274  ...        279        270          0        269          0   \n",
       "\n",
       "   2022.08.03 2022.08.02 2022.08.01 2022.07.31 2022.07.30  \n",
       "0         225          0        261        195        272  \n",
       "1           0        368        256        212        273  \n",
       "2           0        312          0          0        246  \n",
       "3           0        306        257        258        266  \n",
       "4         234          0        294          0        251  \n",
       "5         404          0          0          0        241  \n",
       "6           0          0          0        229          0  \n",
       "7           0          0          0        270        274  \n",
       "8           0          0        290          0        311  \n",
       "9           0          0        279        272        267  \n",
       "10        333        258        278        269        288  \n",
       "11        320        265        294        272        295  \n",
       "12        306        275        324        274        301  \n",
       "13        297          0        307        282          0  \n",
       "14        293        300        296        292        340  \n",
       "15        293        293        310          0        374  \n",
       "16        298        303        314        310        411  \n",
       "17        305        310        315        312        399  \n",
       "18        313        292        331        317        387  \n",
       "19        300        298        316        314        355  \n",
       "20        282          0        305        324        344  \n",
       "21        318        291        291        335        339  \n",
       "22        310        320        298        324        319  \n",
       "23        295        314        290          0          0  \n",
       "\n",
       "[24 rows x 35 columns]"
      ]
     },
     "execution_count": 211,
     "metadata": {},
     "output_type": "execute_result"
    }
   ],
   "source": [
    "df_sample"
   ]
  },
  {
   "cell_type": "code",
   "execution_count": 193,
   "metadata": {},
   "outputs": [],
   "source": [
    "def func(a):\n",
    "    if len(str(a)) > 3:\n",
    "        h,m = map(int,a.split(':'))\n",
    "        t = h*60 + m\n",
    "        return int(t)\n",
    "    return a"
   ]
  },
  {
   "cell_type": "code",
   "execution_count": 194,
   "metadata": {},
   "outputs": [],
   "source": [
    "for col in df_sample.columns:\n",
    "    df_sample[col] = df_sample[col].apply(func)"
   ]
  },
  {
   "cell_type": "code",
   "execution_count": 212,
   "metadata": {},
   "outputs": [
    {
     "data": {
      "text/plain": [
       "262.0625"
      ]
     },
     "execution_count": 212,
     "metadata": {},
     "output_type": "execute_result"
    }
   ],
   "source": [
    "df_sample['2022.08.29'].sum() / (24 -(df_sample['2022.08.29'] == 0).sum())\n"
   ]
  },
  {
   "cell_type": "code",
   "execution_count": 11,
   "metadata": {},
   "outputs": [
    {
     "data": {
      "text/html": [
       "<div>\n",
       "<style scoped>\n",
       "    .dataframe tbody tr th:only-of-type {\n",
       "        vertical-align: middle;\n",
       "    }\n",
       "\n",
       "    .dataframe tbody tr th {\n",
       "        vertical-align: top;\n",
       "    }\n",
       "\n",
       "    .dataframe thead th {\n",
       "        text-align: right;\n",
       "    }\n",
       "</style>\n",
       "<table border=\"1\" class=\"dataframe\">\n",
       "  <thead>\n",
       "    <tr style=\"text-align: right;\">\n",
       "      <th></th>\n",
       "      <th>time</th>\n",
       "      <th>통행시간</th>\n",
       "    </tr>\n",
       "  </thead>\n",
       "  <tbody>\n",
       "  </tbody>\n",
       "</table>\n",
       "</div>"
      ],
      "text/plain": [
       "Empty DataFrame\n",
       "Columns: [time, 통행시간]\n",
       "Index: []"
      ]
     },
     "execution_count": 11,
     "metadata": {},
     "output_type": "execute_result"
    }
   ],
   "source": [
    "df_sample"
   ]
  },
  {
   "cell_type": "code",
   "execution_count": 33,
   "metadata": {},
   "outputs": [
    {
     "data": {
      "text/plain": [
       "'01시'"
      ]
     },
     "execution_count": 33,
     "metadata": {},
     "output_type": "execute_result"
    }
   ],
   "source": [
    "df_sample.iloc[1,3]"
   ]
  },
  {
   "cell_type": "code",
   "execution_count": 313,
   "metadata": {},
   "outputs": [],
   "source": [
    "ridx = 0\n",
    "new_lst = []\n",
    "pass_lst = []\n",
    "\n",
    "for i in range(1,73):\n",
    "    df = pd.read_csv(f'./통행시간/OpenOASIS ({i}).csv',encoding='cp949')\n",
    "\n",
    "    for col in df.columns:\n",
    "        df[col] = df[col].apply(func)\n",
    "    \n",
    "    for row in range(df.shape[0]):\n",
    "        cidx = 0\n",
    "        for col in df.columns:\n",
    "            if cidx > 3:           \n",
    "                ymd = col.split('.')\n",
    "                new =  dt.datetime(int(ymd[0]), int(ymd[1]), int(ymd[2]))\n",
    "                new_lst.append(new)\n",
    "                df[col] = df[col].astype(int)\n",
    "\n",
    "                did = (24 -(df[col] == 0).sum())\n",
    "                if did :\n",
    "                    pass_lst.append(df[col].sum() // did)\n",
    "                else:\n",
    "                    pass_lst.append(0)\n",
    "                    \n",
    "            cidx += 1"
   ]
  },
  {
   "cell_type": "code",
   "execution_count": 380,
   "metadata": {},
   "outputs": [],
   "source": [
    "df_tmp = pd.DataFrame({'datetime':new_lst,'time':pass_lst})"
   ]
  },
  {
   "cell_type": "code",
   "execution_count": 385,
   "metadata": {},
   "outputs": [
    {
     "data": {
      "text/plain": [
       "2022-08-29    1\n",
       "2018-07-31    1\n",
       "2018-08-06    1\n",
       "2018-08-05    1\n",
       "2018-08-04    1\n",
       "             ..\n",
       "2020-08-21    1\n",
       "2020-08-22    1\n",
       "2020-08-23    1\n",
       "2020-08-24    1\n",
       "2016-07-20    1\n",
       "Name: datetime, Length: 2232, dtype: int64"
      ]
     },
     "execution_count": 385,
     "metadata": {},
     "output_type": "execute_result"
    }
   ],
   "source": [
    "df_tmp['datetime'].value_counts()"
   ]
  },
  {
   "cell_type": "code",
   "execution_count": 307,
   "metadata": {},
   "outputs": [],
   "source": [
    "ridx = 0\n",
    "new_lst = []\n",
    "pass_lst = []\n",
    "\n",
    "for i in range(1,73):\n",
    "    df = pd.read_csv(f'./통행시간/OpenOASIS ({i}).csv',encoding='cp949')\n",
    "\n",
    "    for row in range(df.shape[0]):\n",
    "        cidx = 0\n",
    "        for col in df.columns:\n",
    "            if cidx > 3:           \n",
    "                ymd = col.split('.')\n",
    "                new =  dt.datetime(int(ymd[0]), int(ymd[1]), int(ymd[2]),int(df.iloc[row,3][:-1]))\n",
    "                new_lst.append(new)\n",
    "                pass_lst.append(df.iloc[ridx,cidx])\n",
    "            cidx += 1"
   ]
  },
  {
   "cell_type": "code",
   "execution_count": 46,
   "metadata": {},
   "outputs": [
    {
     "name": "stdout",
     "output_type": "stream",
     "text": [
      "53568\n",
      "53568\n",
      "53568\n"
     ]
    }
   ],
   "source": [
    "print(len(ymd_lst))\n",
    "print(len(h_lst))\n",
    "print(len(pass_lst))"
   ]
  },
  {
   "cell_type": "code",
   "execution_count": 308,
   "metadata": {},
   "outputs": [],
   "source": [
    "df_tmp['datetime'] = new_lst\n",
    "df_tmp['통행시간'] = pass_lst"
   ]
  },
  {
   "cell_type": "code",
   "execution_count": 30,
   "metadata": {},
   "outputs": [],
   "source": [
    "df_tmp.drop('Unnamed: 0',axis=1,inplace=True)"
   ]
  },
  {
   "cell_type": "code",
   "execution_count": 386,
   "metadata": {},
   "outputs": [],
   "source": [
    "df_tmp.sort_values(by='datetime',inplace=True)"
   ]
  },
  {
   "cell_type": "code",
   "execution_count": 317,
   "metadata": {},
   "outputs": [],
   "source": [
    "df_tmp = df_tmp.reset_index()\n"
   ]
  },
  {
   "cell_type": "code",
   "execution_count": 319,
   "metadata": {},
   "outputs": [],
   "source": [
    "df_tmp.drop('index',axis=1,inplace=True)"
   ]
  },
  {
   "cell_type": "code",
   "execution_count": 383,
   "metadata": {},
   "outputs": [],
   "source": [
    "df_tmp.drop_duplicates('datetime',inplace=True)"
   ]
  },
  {
   "cell_type": "code",
   "execution_count": 48,
   "metadata": {},
   "outputs": [
    {
     "data": {
      "text/html": [
       "<div>\n",
       "<style scoped>\n",
       "    .dataframe tbody tr th:only-of-type {\n",
       "        vertical-align: middle;\n",
       "    }\n",
       "\n",
       "    .dataframe tbody tr th {\n",
       "        vertical-align: top;\n",
       "    }\n",
       "\n",
       "    .dataframe thead th {\n",
       "        text-align: right;\n",
       "    }\n",
       "</style>\n",
       "<table border=\"1\" class=\"dataframe\">\n",
       "  <thead>\n",
       "    <tr style=\"text-align: right;\">\n",
       "      <th></th>\n",
       "      <th>datetime</th>\n",
       "      <th>time</th>\n",
       "    </tr>\n",
       "  </thead>\n",
       "  <tbody>\n",
       "    <tr>\n",
       "      <th>0</th>\n",
       "      <td>2016-07-20</td>\n",
       "      <td>318</td>\n",
       "    </tr>\n",
       "    <tr>\n",
       "      <th>1</th>\n",
       "      <td>2016-07-21</td>\n",
       "      <td>290</td>\n",
       "    </tr>\n",
       "    <tr>\n",
       "      <th>2</th>\n",
       "      <td>2016-07-22</td>\n",
       "      <td>282</td>\n",
       "    </tr>\n",
       "    <tr>\n",
       "      <th>3</th>\n",
       "      <td>2016-07-23</td>\n",
       "      <td>296</td>\n",
       "    </tr>\n",
       "    <tr>\n",
       "      <th>4</th>\n",
       "      <td>2016-07-24</td>\n",
       "      <td>284</td>\n",
       "    </tr>\n",
       "    <tr>\n",
       "      <th>...</th>\n",
       "      <td>...</td>\n",
       "      <td>...</td>\n",
       "    </tr>\n",
       "    <tr>\n",
       "      <th>2227</th>\n",
       "      <td>2022-08-25</td>\n",
       "      <td>278</td>\n",
       "    </tr>\n",
       "    <tr>\n",
       "      <th>2228</th>\n",
       "      <td>2022-08-26</td>\n",
       "      <td>279</td>\n",
       "    </tr>\n",
       "    <tr>\n",
       "      <th>2229</th>\n",
       "      <td>2022-08-27</td>\n",
       "      <td>302</td>\n",
       "    </tr>\n",
       "    <tr>\n",
       "      <th>2230</th>\n",
       "      <td>2022-08-28</td>\n",
       "      <td>279</td>\n",
       "    </tr>\n",
       "    <tr>\n",
       "      <th>2231</th>\n",
       "      <td>2022-08-29</td>\n",
       "      <td>262</td>\n",
       "    </tr>\n",
       "  </tbody>\n",
       "</table>\n",
       "<p>2232 rows × 2 columns</p>\n",
       "</div>"
      ],
      "text/plain": [
       "        datetime  time\n",
       "0     2016-07-20   318\n",
       "1     2016-07-21   290\n",
       "2     2016-07-22   282\n",
       "3     2016-07-23   296\n",
       "4     2016-07-24   284\n",
       "...          ...   ...\n",
       "2227  2022-08-25   278\n",
       "2228  2022-08-26   279\n",
       "2229  2022-08-27   302\n",
       "2230  2022-08-28   279\n",
       "2231  2022-08-29   262\n",
       "\n",
       "[2232 rows x 2 columns]"
      ]
     },
     "execution_count": 48,
     "metadata": {},
     "output_type": "execute_result"
    }
   ],
   "source": [
    "df_tmp"
   ]
  },
  {
   "cell_type": "code",
   "execution_count": 355,
   "metadata": {},
   "outputs": [],
   "source": [
    "df_tmp = df_tmp[df_tmp['datetime'] >= '2019-11-01']"
   ]
  },
  {
   "cell_type": "code",
   "execution_count": 44,
   "metadata": {},
   "outputs": [],
   "source": [
    "df_tmp = pd.read_csv('highway_data2.csv',index_col=False)"
   ]
  },
  {
   "cell_type": "code",
   "execution_count": 47,
   "metadata": {},
   "outputs": [],
   "source": [
    "df_tmp.drop('Unnamed: 0',axis = 1,inplace=True)"
   ]
  },
  {
   "cell_type": "code",
   "execution_count": 97,
   "metadata": {},
   "outputs": [],
   "source": [
    "df_tmp['통행시간(분)'] = df_tmp['통행시간'].apply(func)"
   ]
  },
  {
   "cell_type": "code",
   "execution_count": 103,
   "metadata": {},
   "outputs": [],
   "source": [
    "df_tmp.drop('통행시간',axis= 1,inplace=True)"
   ]
  },
  {
   "cell_type": "code",
   "execution_count": 269,
   "metadata": {},
   "outputs": [],
   "source": [
    "df_tmp.to_csv('highway_data2.csv')"
   ]
  },
  {
   "cell_type": "code",
   "execution_count": 224,
   "metadata": {},
   "outputs": [],
   "source": [
    "df_tmp.sort_values(by='datetime',inplace=True)"
   ]
  },
  {
   "cell_type": "code",
   "execution_count": 227,
   "metadata": {},
   "outputs": [],
   "source": [
    "df_tmp.reset_index(inplace=True)"
   ]
  },
  {
   "cell_type": "code",
   "execution_count": 231,
   "metadata": {},
   "outputs": [],
   "source": [
    "df_tmp.drop('index',inplace=True,axis=1)"
   ]
  },
  {
   "cell_type": "code",
   "execution_count": 400,
   "metadata": {},
   "outputs": [],
   "source": [
    "df_tmp = df_tmp.iloc[1200:]"
   ]
  },
  {
   "cell_type": "code",
   "execution_count": null,
   "metadata": {},
   "outputs": [],
   "source": []
  },
  {
   "cell_type": "code",
   "execution_count": 401,
   "metadata": {},
   "outputs": [
    {
     "data": {
      "image/png": "[encoded data removed]",
      "text/plain": [
       "<Figure size 2500x800 with 1 Axes>"
      ]
     },
     "metadata": {},
     "output_type": "display_data"
    }
   ],
   "source": [
    "plt.figure(figsize=(25,8))\n",
    "sns.lineplot(x='datetime',y='time',data=df_tmp)\n",
    "plt.show()"
   ]
  },
  {
   "cell_type": "code",
   "execution_count": 402,
   "metadata": {},
   "outputs": [
    {
     "data": {
      "text/plain": [
       "[(0, 1, 0),\n",
       " (0, 1, 1),\n",
       " (0, 1, 2),\n",
       " (0, 1, 3),\n",
       " (0, 1, 4),\n",
       " (1, 1, 0),\n",
       " (1, 1, 1),\n",
       " (1, 1, 2),\n",
       " (1, 1, 3),\n",
       " (1, 1, 4),\n",
       " (2, 1, 0),\n",
       " (2, 1, 1),\n",
       " (2, 1, 2),\n",
       " (2, 1, 3),\n",
       " (2, 1, 4),\n",
       " (3, 1, 0),\n",
       " (3, 1, 1),\n",
       " (3, 1, 2),\n",
       " (3, 1, 3),\n",
       " (3, 1, 4),\n",
       " (4, 1, 0),\n",
       " (4, 1, 1),\n",
       " (4, 1, 2),\n",
       " (4, 1, 3),\n",
       " (4, 1, 4)]"
      ]
     },
     "execution_count": 402,
     "metadata": {},
     "output_type": "execute_result"
    }
   ],
   "source": [
    "\n",
    "# product 함수를 이용하여 값의 조합을 구성\n",
    "p = [0,1,2,3,4]\n",
    "q = [0,1,2,3,4]\n",
    "d = [1]\n",
    "iter = list(product(p,d,q))\n",
    "iter\n"
   ]
  },
  {
   "cell_type": "code",
   "execution_count": 389,
   "metadata": {},
   "outputs": [],
   "source": [
    "df_tmp.set_index('datetime', inplace=True)"
   ]
  },
  {
   "cell_type": "code",
   "execution_count": 390,
   "metadata": {},
   "outputs": [],
   "source": [
    "df_tmp = df_tmp.asfreq('D')"
   ]
  },
  {
   "cell_type": "code",
   "execution_count": 24,
   "metadata": {},
   "outputs": [
    {
     "ename": "NameError",
     "evalue": "name 'df_tmp' is not defined",
     "output_type": "error",
     "traceback": [
      "\u001b[1;31m---------------------------------------------------------------------------\u001b[0m",
      "\u001b[1;31mNameError\u001b[0m                                 Traceback (most recent call last)",
      "\u001b[1;32mc:\\Users\\User\\Desktop\\추석 교통 소요시간 예측 이벤트\\추석_교통_소요시간_예측.ipynb 셀 54\u001b[0m in \u001b[0;36m<cell line: 1>\u001b[1;34m()\u001b[0m\n\u001b[1;32m----> <a href='vscode-notebook-cell:/c%3A/Users/User/Desktop/%EC%B6%94%EC%84%9D%20%EA%B5%90%ED%86%B5%20%EC%86%8C%EC%9A%94%EC%8B%9C%EA%B0%84%20%EC%98%88%EC%B8%A1%20%EC%9D%B4%EB%B2%A4%ED%8A%B8/%EC%B6%94%EC%84%9D_%EA%B5%90%ED%86%B5_%EC%86%8C%EC%9A%94%EC%8B%9C%EA%B0%84_%EC%98%88%EC%B8%A1.ipynb#Y104sZmlsZQ%3D%3D?line=0'>1</a>\u001b[0m df_tmp\n",
      "\u001b[1;31mNameError\u001b[0m: name 'df_tmp' is not defined"
     ]
    }
   ],
   "source": [
    "df_tmp"
   ]
  },
  {
   "cell_type": "code",
   "execution_count": 403,
   "metadata": {},
   "outputs": [],
   "source": [
    "y = df_tmp.loc[:, 'time']"
   ]
  },
  {
   "cell_type": "code",
   "execution_count": 404,
   "metadata": {},
   "outputs": [],
   "source": [
    "train = y[:-30]\n",
    "val = y[-30:]"
   ]
  },
  {
   "cell_type": "code",
   "execution_count": 405,
   "metadata": {},
   "outputs": [
    {
     "data": {
      "text/plain": [
       "datetime\n",
       "2019-11-02    288\n",
       "2019-11-03    282\n",
       "2019-11-04    267\n",
       "2019-11-05    272\n",
       "2019-11-06    257\n",
       "             ... \n",
       "2022-07-26    282\n",
       "2022-07-27    268\n",
       "2022-07-28    276\n",
       "2022-07-29    286\n",
       "2022-07-30    312\n",
       "Freq: D, Name: time, Length: 1002, dtype: int64"
      ]
     },
     "execution_count": 405,
     "metadata": {},
     "output_type": "execute_result"
    }
   ],
   "source": [
    "train\n"
   ]
  },
  {
   "cell_type": "code",
   "execution_count": 406,
   "metadata": {},
   "outputs": [
    {
     "name": "stderr",
     "output_type": "stream",
     "text": [
      "c:\\Users\\User\\AppData\\Local\\Programs\\Python\\Python39\\lib\\site-packages\\statsmodels\\graphics\\tsaplots.py:348: FutureWarning: The default method 'yw' can produce PACF values outside of the [-1,1] interval. After 0.13, the default will change tounadjusted Yule-Walker ('ywm'). You can use this method now by setting method='ywm'.\n",
      "  warnings.warn(\n"
     ]
    },
    {
     "data": {
      "image/png": "[encoded data removed]",
      "text/plain": [
       "<Figure size 1500x500 with 2 Axes>"
      ]
     },
     "metadata": {},
     "output_type": "display_data"
    }
   ],
   "source": [
    "lags = 20\n",
    "\n",
    "fig,ax = plt.subplots(1,2, figsize = (15,5))\n",
    "plot_acf(train, lags = lags, ax = ax[0])\n",
    "plot_pacf(train, lags = lags, ax = ax[1])\n",
    "plt.show()"
   ]
  },
  {
   "cell_type": "code",
   "execution_count": 407,
   "metadata": {},
   "outputs": [],
   "source": [
    "p = [0,1,2,3,4]\n",
    "q = [0,1,2,3,4]\n",
    "d = [0,1]\n",
    "iter = list(product(p,d,q))"
   ]
  },
  {
   "cell_type": "code",
   "execution_count": 408,
   "metadata": {},
   "outputs": [
    {
     "name": "stdout",
     "output_type": "stream",
     "text": [
      "(0, 0, 0)\n",
      "(0, 0, 1)\n",
      "(0, 0, 2)\n",
      "(0, 0, 3)\n"
     ]
    },
    {
     "name": "stderr",
     "output_type": "stream",
     "text": [
      "c:\\Users\\User\\AppData\\Local\\Programs\\Python\\Python39\\lib\\site-packages\\statsmodels\\base\\model.py:604: ConvergenceWarning: Maximum Likelihood optimization failed to converge. Check mle_retvals\n",
      "  warnings.warn(\"Maximum Likelihood optimization failed to \"\n"
     ]
    },
    {
     "name": "stdout",
     "output_type": "stream",
     "text": [
      "(0, 0, 4)\n",
      "(0, 1, 0)\n",
      "(0, 1, 1)\n",
      "(0, 1, 2)\n",
      "(0, 1, 3)\n",
      "(0, 1, 4)\n",
      "(1, 0, 0)\n",
      "(1, 0, 1)\n",
      "(1, 0, 2)\n",
      "(1, 0, 3)\n"
     ]
    },
    {
     "name": "stderr",
     "output_type": "stream",
     "text": [
      "c:\\Users\\User\\AppData\\Local\\Programs\\Python\\Python39\\lib\\site-packages\\statsmodels\\tsa\\statespace\\sarimax.py:966: UserWarning: Non-stationary starting autoregressive parameters found. Using zeros as starting parameters.\n",
      "  warn('Non-stationary starting autoregressive parameters'\n",
      "c:\\Users\\User\\AppData\\Local\\Programs\\Python\\Python39\\lib\\site-packages\\statsmodels\\base\\model.py:604: ConvergenceWarning: Maximum Likelihood optimization failed to converge. Check mle_retvals\n",
      "  warnings.warn(\"Maximum Likelihood optimization failed to \"\n"
     ]
    },
    {
     "name": "stdout",
     "output_type": "stream",
     "text": [
      "(1, 0, 4)\n",
      "(1, 1, 0)\n",
      "(1, 1, 1)\n"
     ]
    },
    {
     "name": "stderr",
     "output_type": "stream",
     "text": [
      "c:\\Users\\User\\AppData\\Local\\Programs\\Python\\Python39\\lib\\site-packages\\statsmodels\\tsa\\statespace\\sarimax.py:966: UserWarning: Non-stationary starting autoregressive parameters found. Using zeros as starting parameters.\n",
      "  warn('Non-stationary starting autoregressive parameters'\n",
      "c:\\Users\\User\\AppData\\Local\\Programs\\Python\\Python39\\lib\\site-packages\\statsmodels\\tsa\\statespace\\sarimax.py:978: UserWarning: Non-invertible starting MA parameters found. Using zeros as starting parameters.\n",
      "  warn('Non-invertible starting MA parameters found.'\n"
     ]
    },
    {
     "name": "stdout",
     "output_type": "stream",
     "text": [
      "(1, 1, 2)\n",
      "(1, 1, 3)\n",
      "(1, 1, 4)\n",
      "(2, 0, 0)\n"
     ]
    },
    {
     "name": "stderr",
     "output_type": "stream",
     "text": [
      "c:\\Users\\User\\AppData\\Local\\Programs\\Python\\Python39\\lib\\site-packages\\statsmodels\\tsa\\statespace\\sarimax.py:966: UserWarning: Non-stationary starting autoregressive parameters found. Using zeros as starting parameters.\n",
      "  warn('Non-stationary starting autoregressive parameters'\n"
     ]
    },
    {
     "name": "stdout",
     "output_type": "stream",
     "text": [
      "(2, 0, 1)\n",
      "(2, 0, 2)\n",
      "(2, 0, 3)\n"
     ]
    },
    {
     "name": "stderr",
     "output_type": "stream",
     "text": [
      "c:\\Users\\User\\AppData\\Local\\Programs\\Python\\Python39\\lib\\site-packages\\statsmodels\\tsa\\statespace\\sarimax.py:966: UserWarning: Non-stationary starting autoregressive parameters found. Using zeros as starting parameters.\n",
      "  warn('Non-stationary starting autoregressive parameters'\n"
     ]
    },
    {
     "name": "stdout",
     "output_type": "stream",
     "text": [
      "(2, 0, 4)\n",
      "(2, 1, 0)\n",
      "(2, 1, 1)\n"
     ]
    },
    {
     "name": "stderr",
     "output_type": "stream",
     "text": [
      "c:\\Users\\User\\AppData\\Local\\Programs\\Python\\Python39\\lib\\site-packages\\statsmodels\\tsa\\statespace\\sarimax.py:966: UserWarning: Non-stationary starting autoregressive parameters found. Using zeros as starting parameters.\n",
      "  warn('Non-stationary starting autoregressive parameters'\n",
      "c:\\Users\\User\\AppData\\Local\\Programs\\Python\\Python39\\lib\\site-packages\\statsmodels\\tsa\\statespace\\sarimax.py:978: UserWarning: Non-invertible starting MA parameters found. Using zeros as starting parameters.\n",
      "  warn('Non-invertible starting MA parameters found.'\n"
     ]
    },
    {
     "name": "stdout",
     "output_type": "stream",
     "text": [
      "(2, 1, 2)\n",
      "(2, 1, 3)\n"
     ]
    },
    {
     "name": "stderr",
     "output_type": "stream",
     "text": [
      "c:\\Users\\User\\AppData\\Local\\Programs\\Python\\Python39\\lib\\site-packages\\statsmodels\\base\\model.py:604: ConvergenceWarning: Maximum Likelihood optimization failed to converge. Check mle_retvals\n",
      "  warnings.warn(\"Maximum Likelihood optimization failed to \"\n"
     ]
    },
    {
     "name": "stdout",
     "output_type": "stream",
     "text": [
      "(2, 1, 4)\n",
      "(3, 0, 0)\n",
      "(3, 0, 1)\n",
      "(3, 0, 2)\n"
     ]
    },
    {
     "name": "stderr",
     "output_type": "stream",
     "text": [
      "c:\\Users\\User\\AppData\\Local\\Programs\\Python\\Python39\\lib\\site-packages\\statsmodels\\base\\model.py:604: ConvergenceWarning: Maximum Likelihood optimization failed to converge. Check mle_retvals\n",
      "  warnings.warn(\"Maximum Likelihood optimization failed to \"\n",
      "c:\\Users\\User\\AppData\\Local\\Programs\\Python\\Python39\\lib\\site-packages\\statsmodels\\tsa\\statespace\\sarimax.py:966: UserWarning: Non-stationary starting autoregressive parameters found. Using zeros as starting parameters.\n",
      "  warn('Non-stationary starting autoregressive parameters'\n"
     ]
    },
    {
     "name": "stdout",
     "output_type": "stream",
     "text": [
      "(3, 0, 3)\n"
     ]
    },
    {
     "name": "stderr",
     "output_type": "stream",
     "text": [
      "c:\\Users\\User\\AppData\\Local\\Programs\\Python\\Python39\\lib\\site-packages\\statsmodels\\base\\model.py:604: ConvergenceWarning: Maximum Likelihood optimization failed to converge. Check mle_retvals\n",
      "  warnings.warn(\"Maximum Likelihood optimization failed to \"\n"
     ]
    },
    {
     "name": "stdout",
     "output_type": "stream",
     "text": [
      "(3, 0, 4)\n",
      "(3, 1, 0)\n",
      "(3, 1, 1)\n"
     ]
    },
    {
     "name": "stderr",
     "output_type": "stream",
     "text": [
      "c:\\Users\\User\\AppData\\Local\\Programs\\Python\\Python39\\lib\\site-packages\\statsmodels\\tsa\\statespace\\sarimax.py:966: UserWarning: Non-stationary starting autoregressive parameters found. Using zeros as starting parameters.\n",
      "  warn('Non-stationary starting autoregressive parameters'\n",
      "c:\\Users\\User\\AppData\\Local\\Programs\\Python\\Python39\\lib\\site-packages\\statsmodels\\tsa\\statespace\\sarimax.py:978: UserWarning: Non-invertible starting MA parameters found. Using zeros as starting parameters.\n",
      "  warn('Non-invertible starting MA parameters found.'\n"
     ]
    },
    {
     "name": "stdout",
     "output_type": "stream",
     "text": [
      "(3, 1, 2)\n"
     ]
    },
    {
     "name": "stderr",
     "output_type": "stream",
     "text": [
      "c:\\Users\\User\\AppData\\Local\\Programs\\Python\\Python39\\lib\\site-packages\\statsmodels\\base\\model.py:604: ConvergenceWarning: Maximum Likelihood optimization failed to converge. Check mle_retvals\n",
      "  warnings.warn(\"Maximum Likelihood optimization failed to \"\n"
     ]
    },
    {
     "name": "stdout",
     "output_type": "stream",
     "text": [
      "(3, 1, 3)\n"
     ]
    },
    {
     "name": "stderr",
     "output_type": "stream",
     "text": [
      "c:\\Users\\User\\AppData\\Local\\Programs\\Python\\Python39\\lib\\site-packages\\statsmodels\\base\\model.py:604: ConvergenceWarning: Maximum Likelihood optimization failed to converge. Check mle_retvals\n",
      "  warnings.warn(\"Maximum Likelihood optimization failed to \"\n"
     ]
    },
    {
     "name": "stdout",
     "output_type": "stream",
     "text": [
      "(3, 1, 4)\n",
      "(4, 0, 0)\n",
      "(4, 0, 1)\n",
      "(4, 0, 2)\n"
     ]
    },
    {
     "name": "stderr",
     "output_type": "stream",
     "text": [
      "c:\\Users\\User\\AppData\\Local\\Programs\\Python\\Python39\\lib\\site-packages\\statsmodels\\base\\model.py:604: ConvergenceWarning: Maximum Likelihood optimization failed to converge. Check mle_retvals\n",
      "  warnings.warn(\"Maximum Likelihood optimization failed to \"\n"
     ]
    },
    {
     "name": "stdout",
     "output_type": "stream",
     "text": [
      "(4, 0, 3)\n"
     ]
    },
    {
     "name": "stderr",
     "output_type": "stream",
     "text": [
      "c:\\Users\\User\\AppData\\Local\\Programs\\Python\\Python39\\lib\\site-packages\\statsmodels\\base\\model.py:604: ConvergenceWarning: Maximum Likelihood optimization failed to converge. Check mle_retvals\n",
      "  warnings.warn(\"Maximum Likelihood optimization failed to \"\n"
     ]
    },
    {
     "name": "stdout",
     "output_type": "stream",
     "text": [
      "(4, 0, 4)\n",
      "(4, 1, 0)\n",
      "(4, 1, 1)\n"
     ]
    },
    {
     "name": "stderr",
     "output_type": "stream",
     "text": [
      "c:\\Users\\User\\AppData\\Local\\Programs\\Python\\Python39\\lib\\site-packages\\statsmodels\\tsa\\statespace\\sarimax.py:966: UserWarning: Non-stationary starting autoregressive parameters found. Using zeros as starting parameters.\n",
      "  warn('Non-stationary starting autoregressive parameters'\n",
      "c:\\Users\\User\\AppData\\Local\\Programs\\Python\\Python39\\lib\\site-packages\\statsmodels\\tsa\\statespace\\sarimax.py:978: UserWarning: Non-invertible starting MA parameters found. Using zeros as starting parameters.\n",
      "  warn('Non-invertible starting MA parameters found.'\n"
     ]
    },
    {
     "name": "stdout",
     "output_type": "stream",
     "text": [
      "(4, 1, 2)\n"
     ]
    },
    {
     "name": "stderr",
     "output_type": "stream",
     "text": [
      "c:\\Users\\User\\AppData\\Local\\Programs\\Python\\Python39\\lib\\site-packages\\statsmodels\\base\\model.py:604: ConvergenceWarning: Maximum Likelihood optimization failed to converge. Check mle_retvals\n",
      "  warnings.warn(\"Maximum Likelihood optimization failed to \"\n"
     ]
    },
    {
     "name": "stdout",
     "output_type": "stream",
     "text": [
      "(4, 1, 3)\n",
      "(4, 1, 4)\n"
     ]
    },
    {
     "name": "stderr",
     "output_type": "stream",
     "text": [
      "c:\\Users\\User\\AppData\\Local\\Programs\\Python\\Python39\\lib\\site-packages\\statsmodels\\base\\model.py:604: ConvergenceWarning: Maximum Likelihood optimization failed to converge. Check mle_retvals\n",
      "  warnings.warn(\"Maximum Likelihood optimization failed to \"\n"
     ]
    }
   ],
   "source": [
    "mae, aic = [],[]\n",
    "for i in iter :\n",
    "    model_fit = sm.tsa.SARIMAX(train, order=(i[0],i[1],i[2])).fit()\n",
    "    pred = model_fit.forecast(30)\n",
    "    mae.append( mean_absolute_error(val, pred))\n",
    "    aic.append(model_fit.aic)\n",
    "    print(i)"
   ]
  },
  {
   "cell_type": "code",
   "execution_count": 368,
   "metadata": {},
   "outputs": [
    {
     "data": {
      "text/html": [
       "<div>\n",
       "<style scoped>\n",
       "    .dataframe tbody tr th:only-of-type {\n",
       "        vertical-align: middle;\n",
       "    }\n",
       "\n",
       "    .dataframe tbody tr th {\n",
       "        vertical-align: top;\n",
       "    }\n",
       "\n",
       "    .dataframe thead th {\n",
       "        text-align: right;\n",
       "    }\n",
       "</style>\n",
       "<table border=\"1\" class=\"dataframe\">\n",
       "  <thead>\n",
       "    <tr style=\"text-align: right;\">\n",
       "      <th></th>\n",
       "      <th>params(p,d,q)</th>\n",
       "      <th>mae</th>\n",
       "      <th>aic</th>\n",
       "    </tr>\n",
       "  </thead>\n",
       "  <tbody>\n",
       "    <tr>\n",
       "      <th>42</th>\n",
       "      <td>(4, 0, 2)</td>\n",
       "      <td>12.074028</td>\n",
       "      <td>18576.236835</td>\n",
       "    </tr>\n",
       "  </tbody>\n",
       "</table>\n",
       "</div>"
      ],
      "text/plain": [
       "   params(p,d,q)        mae           aic\n",
       "42     (4, 0, 2)  12.074028  18576.236835"
      ]
     },
     "metadata": {},
     "output_type": "display_data"
    },
    {
     "data": {
      "text/html": [
       "<div>\n",
       "<style scoped>\n",
       "    .dataframe tbody tr th:only-of-type {\n",
       "        vertical-align: middle;\n",
       "    }\n",
       "\n",
       "    .dataframe tbody tr th {\n",
       "        vertical-align: top;\n",
       "    }\n",
       "\n",
       "    .dataframe thead th {\n",
       "        text-align: right;\n",
       "    }\n",
       "</style>\n",
       "<table border=\"1\" class=\"dataframe\">\n",
       "  <thead>\n",
       "    <tr style=\"text-align: right;\">\n",
       "      <th></th>\n",
       "      <th>params(p,d,q)</th>\n",
       "      <th>mae</th>\n",
       "      <th>aic</th>\n",
       "    </tr>\n",
       "  </thead>\n",
       "  <tbody>\n",
       "    <tr>\n",
       "      <th>48</th>\n",
       "      <td>(4, 1, 3)</td>\n",
       "      <td>12.161139</td>\n",
       "      <td>18546.356961</td>\n",
       "    </tr>\n",
       "  </tbody>\n",
       "</table>\n",
       "</div>"
      ],
      "text/plain": [
       "   params(p,d,q)        mae           aic\n",
       "48     (4, 1, 3)  12.161139  18546.356961"
      ]
     },
     "metadata": {},
     "output_type": "display_data"
    }
   ],
   "source": [
    "result = pd.DataFrame({'params(p,d,q)' : iter, 'mae' : mae, 'aic':aic})\n",
    "\n",
    "display(result.loc[result['mae'] == result.mae.min()])\n",
    "display(result.loc[result['aic'] == result.aic.min()])"
   ]
  },
  {
   "cell_type": "code",
   "execution_count": 415,
   "metadata": {},
   "outputs": [
    {
     "name": "stderr",
     "output_type": "stream",
     "text": [
      "c:\\Users\\User\\AppData\\Local\\Programs\\Python\\Python39\\lib\\site-packages\\statsmodels\\base\\model.py:604: ConvergenceWarning: Maximum Likelihood optimization failed to converge. Check mle_retvals\n",
      "  warnings.warn(\"Maximum Likelihood optimization failed to \"\n"
     ]
    }
   ],
   "source": [
    "#model2_1 = sm.tsa.SARIMAX(train, order=(4,0,2)).fit()\n",
    "model2_2 = sm.tsa.SARIMAX(train, order=(4,1,3)).fit()"
   ]
  },
  {
   "cell_type": "code",
   "execution_count": 348,
   "metadata": {},
   "outputs": [],
   "source": [
    "def residual_diag(residuals, lags = 20) :\n",
    "\n",
    "    print('* 정규성 검정(> 0.05) : ', round(stats.shapiro(residuals)[1],5))\n",
    "    print('* 정상성 검정(< 0.05) : ', round(sm.tsa.stattools.adfuller(residuals)[1],5))\n",
    "    print('* 자기상관성 확인(ACF, PACF)')\n",
    "    fig,ax = plt.subplots(1,2, figsize = (15,5))\n",
    "    plot_acf(residuals, lags = lags, ax = ax[0])\n",
    "    plot_pacf(residuals, lags = lags, ax = ax[1])\n",
    "    plt.show()"
   ]
  },
  {
   "cell_type": "code",
   "execution_count": 416,
   "metadata": {},
   "outputs": [
    {
     "name": "stdout",
     "output_type": "stream",
     "text": [
      "* 정규성 검정(> 0.05) :  0.0\n",
      "* 정상성 검정(< 0.05) :  0.0\n",
      "* 자기상관성 확인(ACF, PACF)\n"
     ]
    },
    {
     "name": "stderr",
     "output_type": "stream",
     "text": [
      "c:\\Users\\User\\AppData\\Local\\Programs\\Python\\Python39\\lib\\site-packages\\statsmodels\\graphics\\tsaplots.py:348: FutureWarning: The default method 'yw' can produce PACF values outside of the [-1,1] interval. After 0.13, the default will change tounadjusted Yule-Walker ('ywm'). You can use this method now by setting method='ywm'.\n",
      "  warnings.warn(\n"
     ]
    },
    {
     "data": {
      "image/png": "[encoded data removed]",
      "text/plain": [
       "<Figure size 1500x500 with 2 Axes>"
      ]
     },
     "metadata": {},
     "output_type": "display_data"
    }
   ],
   "source": [
    "residuals = model2_2.resid\n",
    "residual_diag(residuals)"
   ]
  },
  {
   "cell_type": "code",
   "execution_count": 424,
   "metadata": {},
   "outputs": [],
   "source": [
    "from sklearn.model_selection import TimeSeriesSplit"
   ]
  },
  {
   "cell_type": "code",
   "execution_count": 425,
   "metadata": {},
   "outputs": [],
   "source": [
    "val_size = 30\n",
    "nfold = 3\n",
    "\n",
    "tscv = TimeSeriesSplit(n_splits = nfold, test_size = val_size)"
   ]
  },
  {
   "cell_type": "code",
   "execution_count": 426,
   "metadata": {},
   "outputs": [
    {
     "ename": "NameError",
     "evalue": "name 'x' is not defined",
     "output_type": "error",
     "traceback": [
      "\u001b[1;31m---------------------------------------------------------------------------\u001b[0m",
      "\u001b[1;31mNameError\u001b[0m                                 Traceback (most recent call last)",
      "\u001b[1;32mc:\\Users\\User\\Desktop\\추석 교통 소요시간 예측 이벤트\\추석_교통_소요시간_예측.ipynb 셀 67\u001b[0m in \u001b[0;36m<cell line: 6>\u001b[1;34m()\u001b[0m\n\u001b[0;32m      <a href='vscode-notebook-cell:/c%3A/Users/User/Desktop/%EC%B6%94%EC%84%9D%20%EA%B5%90%ED%86%B5%20%EC%86%8C%EC%9A%94%EC%8B%9C%EA%B0%84%20%EC%98%88%EC%B8%A1%20%EC%9D%B4%EB%B2%A4%ED%8A%B8/%EC%B6%94%EC%84%9D_%EA%B5%90%ED%86%B5_%EC%86%8C%EC%9A%94%EC%8B%9C%EA%B0%84_%EC%98%88%EC%B8%A1.ipynb#Y163sZmlsZQ%3D%3D?line=2'>3</a>\u001b[0m preds \u001b[39m=\u001b[39m []\n\u001b[0;32m      <a href='vscode-notebook-cell:/c%3A/Users/User/Desktop/%EC%B6%94%EC%84%9D%20%EA%B5%90%ED%86%B5%20%EC%86%8C%EC%9A%94%EC%8B%9C%EA%B0%84%20%EC%98%88%EC%B8%A1%20%EC%9D%B4%EB%B2%A4%ED%8A%B8/%EC%B6%94%EC%84%9D_%EA%B5%90%ED%86%B5_%EC%86%8C%EC%9A%94%EC%8B%9C%EA%B0%84_%EC%98%88%EC%B8%A1.ipynb#Y163sZmlsZQ%3D%3D?line=3'>4</a>\u001b[0m p,d,q \u001b[39m=\u001b[39m \u001b[39m4\u001b[39m,\u001b[39m1\u001b[39m,\u001b[39m4\u001b[39m\n\u001b[1;32m----> <a href='vscode-notebook-cell:/c%3A/Users/User/Desktop/%EC%B6%94%EC%84%9D%20%EA%B5%90%ED%86%B5%20%EC%86%8C%EC%9A%94%EC%8B%9C%EA%B0%84%20%EC%98%88%EC%B8%A1%20%EC%9D%B4%EB%B2%A4%ED%8A%B8/%EC%B6%94%EC%84%9D_%EA%B5%90%ED%86%B5_%EC%86%8C%EC%9A%94%EC%8B%9C%EA%B0%84_%EC%98%88%EC%B8%A1.ipynb#Y163sZmlsZQ%3D%3D?line=5'>6</a>\u001b[0m \u001b[39mfor\u001b[39;00m train_index, val_index \u001b[39min\u001b[39;00m tscv\u001b[39m.\u001b[39msplit(x):\n\u001b[0;32m      <a href='vscode-notebook-cell:/c%3A/Users/User/Desktop/%EC%B6%94%EC%84%9D%20%EA%B5%90%ED%86%B5%20%EC%86%8C%EC%9A%94%EC%8B%9C%EA%B0%84%20%EC%98%88%EC%B8%A1%20%EC%9D%B4%EB%B2%A4%ED%8A%B8/%EC%B6%94%EC%84%9D_%EA%B5%90%ED%86%B5_%EC%86%8C%EC%9A%94%EC%8B%9C%EA%B0%84_%EC%98%88%EC%B8%A1.ipynb#Y163sZmlsZQ%3D%3D?line=6'>7</a>\u001b[0m \n\u001b[0;32m      <a href='vscode-notebook-cell:/c%3A/Users/User/Desktop/%EC%B6%94%EC%84%9D%20%EA%B5%90%ED%86%B5%20%EC%86%8C%EC%9A%94%EC%8B%9C%EA%B0%84%20%EC%98%88%EC%B8%A1%20%EC%9D%B4%EB%B2%A4%ED%8A%B8/%EC%B6%94%EC%84%9D_%EA%B5%90%ED%86%B5_%EC%86%8C%EC%9A%94%EC%8B%9C%EA%B0%84_%EC%98%88%EC%B8%A1.ipynb#Y163sZmlsZQ%3D%3D?line=7'>8</a>\u001b[0m     \u001b[39m# 인덱스로 데이터 분할\u001b[39;00m\n\u001b[0;32m      <a href='vscode-notebook-cell:/c%3A/Users/User/Desktop/%EC%B6%94%EC%84%9D%20%EA%B5%90%ED%86%B5%20%EC%86%8C%EC%9A%94%EC%8B%9C%EA%B0%84%20%EC%98%88%EC%B8%A1%20%EC%9D%B4%EB%B2%A4%ED%8A%B8/%EC%B6%94%EC%84%9D_%EA%B5%90%ED%86%B5_%EC%86%8C%EC%9A%94%EC%8B%9C%EA%B0%84_%EC%98%88%EC%B8%A1.ipynb#Y163sZmlsZQ%3D%3D?line=8'>9</a>\u001b[0m     train \u001b[39m=\u001b[39m y[train_index]\n\u001b[0;32m     <a href='vscode-notebook-cell:/c%3A/Users/User/Desktop/%EC%B6%94%EC%84%9D%20%EA%B5%90%ED%86%B5%20%EC%86%8C%EC%9A%94%EC%8B%9C%EA%B0%84%20%EC%98%88%EC%B8%A1%20%EC%9D%B4%EB%B2%A4%ED%8A%B8/%EC%B6%94%EC%84%9D_%EA%B5%90%ED%86%B5_%EC%86%8C%EC%9A%94%EC%8B%9C%EA%B0%84_%EC%98%88%EC%B8%A1.ipynb#Y163sZmlsZQ%3D%3D?line=9'>10</a>\u001b[0m     val \u001b[39m=\u001b[39m y[val_index]\n",
      "\u001b[1;31mNameError\u001b[0m: name 'x' is not defined"
     ]
    }
   ],
   "source": [
    "rmse, mae, mape, aic = [],[],[],[]\n",
    "residuals = []\n",
    "preds = []\n",
    "p,d,q = 4,1,4\n",
    "\n",
    "for train_index, val_index in tscv.split(x):\n",
    "\n",
    "    # 인덱스로 데이터 분할\n",
    "    train = y[train_index]\n",
    "    val = y[val_index]\n",
    "\n",
    "    # 학습\n",
    "    model = sm.tsa.SARIMAX(train, order=(p,d,q)).fit()\n",
    "\n",
    "    # 예측\n",
    "    pred = model.forecast(val_size)\n",
    "    preds += list(pred)\n",
    "\n",
    "    # 잔차 저장\n",
    "    residuals += list(model.resid)\n",
    "\n",
    "    # 평가\n",
    "    rmse.append(mean_squared_error(val, pred, squared = False))\n",
    "    mae.append(mean_absolute_error(val, pred))\n",
    "    mape.append(mean_absolute_percentage_error(val, pred))\n",
    "    aic.append(model.aic)"
   ]
  },
  {
   "cell_type": "code",
   "execution_count": 421,
   "metadata": {},
   "outputs": [
    {
     "data": {
      "text/plain": [
       "0.04247475160629504"
      ]
     },
     "execution_count": 421,
     "metadata": {},
     "output_type": "execute_result"
    }
   ],
   "source": [
    "pred = model2_2.forecast(30)\n",
    "mean_absolute_percentage_error(val, pred)"
   ]
  },
  {
   "cell_type": "code",
   "execution_count": 422,
   "metadata": {},
   "outputs": [
    {
     "data": {
      "text/plain": [
       "datetime\n",
       "2022-07-31    281\n",
       "2022-08-01    295\n",
       "2022-08-02    300\n",
       "2022-08-03    301\n",
       "2022-08-04    270\n",
       "2022-08-05    285\n",
       "2022-08-06    259\n",
       "2022-08-07    272\n",
       "2022-08-08    259\n",
       "2022-08-09    277\n",
       "2022-08-10    272\n",
       "2022-08-11    289\n",
       "2022-08-12    299\n",
       "2022-08-13    328\n",
       "2022-08-14    290\n",
       "2022-08-15    267\n",
       "2022-08-16    264\n",
       "2022-08-17    291\n",
       "2022-08-18    274\n",
       "2022-08-19    271\n",
       "2022-08-20    274\n",
       "2022-08-21    267\n",
       "2022-08-22    287\n",
       "2022-08-23    289\n",
       "2022-08-24    262\n",
       "2022-08-25    278\n",
       "2022-08-26    279\n",
       "2022-08-27    302\n",
       "2022-08-28    279\n",
       "2022-08-29    262\n",
       "Freq: D, Name: time, dtype: int64"
      ]
     },
     "execution_count": 422,
     "metadata": {},
     "output_type": "execute_result"
    }
   ],
   "source": [
    "val"
   ]
  },
  {
   "cell_type": "code",
   "execution_count": 423,
   "metadata": {},
   "outputs": [
    {
     "data": {
      "text/plain": [
       "2022-07-31    276.213144\n",
       "2022-08-01    279.365386\n",
       "2022-08-02    282.796040\n",
       "2022-08-03    275.517987\n",
       "2022-08-04    273.421849\n",
       "2022-08-05    281.292011\n",
       "2022-08-06    279.742591\n",
       "2022-08-07    272.532297\n",
       "2022-08-08    277.284485\n",
       "2022-08-09    282.372061\n",
       "2022-08-10    275.352427\n",
       "2022-08-11    273.394639\n",
       "2022-08-12    281.285216\n",
       "2022-08-13    279.725473\n",
       "2022-08-14    272.531941\n",
       "2022-08-15    277.297684\n",
       "2022-08-16    282.365319\n",
       "2022-08-17    275.341891\n",
       "2022-08-18    273.405974\n",
       "2022-08-19    281.290668\n",
       "2022-08-20    279.711702\n",
       "2022-08-21    272.532626\n",
       "2022-08-22    277.311146\n",
       "2022-08-23    282.358634\n",
       "2022-08-24    275.331413\n",
       "2022-08-25    273.417328\n",
       "2022-08-26    281.296083\n",
       "2022-08-27    279.697937\n",
       "2022-08-28    272.533348\n",
       "2022-08-29    277.324586\n",
       "Freq: D, Name: predicted_mean, dtype: float64"
      ]
     },
     "execution_count": 423,
     "metadata": {},
     "output_type": "execute_result"
    }
   ],
   "source": [
    "pred"
   ]
  },
  {
   "cell_type": "code",
   "execution_count": 419,
   "metadata": {},
   "outputs": [
    {
     "data": {
      "image/png": "[encoded data removed]",
      "text/plain": [
       "<Figure size 1500x800 with 1 Axes>"
      ]
     },
     "metadata": {},
     "output_type": "display_data"
    }
   ],
   "source": [
    "plt.figure(figsize=(15,8))\n",
    "plt.plot(train[-120:], label='train')\n",
    "plt.plot(pred, label = 'forecast')\n",
    "plt.plot(val, label = 'val')\n",
    "plt.legend()\n",
    "plt.show()"
   ]
  },
  {
   "cell_type": "markdown",
   "metadata": {},
   "source": [
    "---"
   ]
  },
  {
   "cell_type": "code",
   "execution_count": 42,
   "metadata": {},
   "outputs": [],
   "source": [
    "df_traffic = pd.read_csv('./이용차량/OpenOASIS (1).csv',encoding='cp949')"
   ]
  },
  {
   "cell_type": "code",
   "execution_count": 12,
   "metadata": {},
   "outputs": [
    {
     "data": {
      "text/html": [
       "<div>\n",
       "<style scoped>\n",
       "    .dataframe tbody tr th:only-of-type {\n",
       "        vertical-align: middle;\n",
       "    }\n",
       "\n",
       "    .dataframe tbody tr th {\n",
       "        vertical-align: top;\n",
       "    }\n",
       "\n",
       "    .dataframe thead th {\n",
       "        text-align: right;\n",
       "    }\n",
       "</style>\n",
       "<table border=\"1\" class=\"dataframe\">\n",
       "  <thead>\n",
       "    <tr style=\"text-align: right;\">\n",
       "      <th></th>\n",
       "      <th>출발</th>\n",
       "      <th>도착</th>\n",
       "      <th>일자</th>\n",
       "      <th>교통량</th>\n",
       "    </tr>\n",
       "  </thead>\n",
       "  <tbody>\n",
       "    <tr>\n",
       "      <th>0</th>\n",
       "      <td>서울</td>\n",
       "      <td>부산</td>\n",
       "      <td>2022.08.02</td>\n",
       "      <td>16</td>\n",
       "    </tr>\n",
       "    <tr>\n",
       "      <th>1</th>\n",
       "      <td>서울</td>\n",
       "      <td>부산</td>\n",
       "      <td>2022.08.03</td>\n",
       "      <td>16</td>\n",
       "    </tr>\n",
       "    <tr>\n",
       "      <th>2</th>\n",
       "      <td>서울</td>\n",
       "      <td>부산</td>\n",
       "      <td>2022.08.04</td>\n",
       "      <td>16</td>\n",
       "    </tr>\n",
       "    <tr>\n",
       "      <th>3</th>\n",
       "      <td>서울</td>\n",
       "      <td>부산</td>\n",
       "      <td>2022.08.05</td>\n",
       "      <td>14</td>\n",
       "    </tr>\n",
       "    <tr>\n",
       "      <th>4</th>\n",
       "      <td>서울</td>\n",
       "      <td>부산</td>\n",
       "      <td>2022.08.06</td>\n",
       "      <td>18</td>\n",
       "    </tr>\n",
       "    <tr>\n",
       "      <th>5</th>\n",
       "      <td>서울</td>\n",
       "      <td>부산</td>\n",
       "      <td>2022.08.07</td>\n",
       "      <td>13</td>\n",
       "    </tr>\n",
       "    <tr>\n",
       "      <th>6</th>\n",
       "      <td>서울</td>\n",
       "      <td>부산</td>\n",
       "      <td>2022.08.08</td>\n",
       "      <td>18</td>\n",
       "    </tr>\n",
       "    <tr>\n",
       "      <th>7</th>\n",
       "      <td>서울</td>\n",
       "      <td>부산</td>\n",
       "      <td>2022.08.09</td>\n",
       "      <td>5</td>\n",
       "    </tr>\n",
       "    <tr>\n",
       "      <th>8</th>\n",
       "      <td>서울</td>\n",
       "      <td>부산</td>\n",
       "      <td>2022.08.10</td>\n",
       "      <td>6</td>\n",
       "    </tr>\n",
       "    <tr>\n",
       "      <th>9</th>\n",
       "      <td>서울</td>\n",
       "      <td>부산</td>\n",
       "      <td>2022.08.11</td>\n",
       "      <td>17</td>\n",
       "    </tr>\n",
       "    <tr>\n",
       "      <th>10</th>\n",
       "      <td>서울</td>\n",
       "      <td>부산</td>\n",
       "      <td>2022.08.12</td>\n",
       "      <td>23</td>\n",
       "    </tr>\n",
       "    <tr>\n",
       "      <th>11</th>\n",
       "      <td>서울</td>\n",
       "      <td>부산</td>\n",
       "      <td>2022.08.13</td>\n",
       "      <td>30</td>\n",
       "    </tr>\n",
       "    <tr>\n",
       "      <th>12</th>\n",
       "      <td>서울</td>\n",
       "      <td>부산</td>\n",
       "      <td>2022.08.14</td>\n",
       "      <td>24</td>\n",
       "    </tr>\n",
       "    <tr>\n",
       "      <th>13</th>\n",
       "      <td>서울</td>\n",
       "      <td>부산</td>\n",
       "      <td>2022.08.15</td>\n",
       "      <td>24</td>\n",
       "    </tr>\n",
       "    <tr>\n",
       "      <th>14</th>\n",
       "      <td>서울</td>\n",
       "      <td>부산</td>\n",
       "      <td>2022.08.16</td>\n",
       "      <td>13</td>\n",
       "    </tr>\n",
       "    <tr>\n",
       "      <th>15</th>\n",
       "      <td>서울</td>\n",
       "      <td>부산</td>\n",
       "      <td>2022.08.17</td>\n",
       "      <td>13</td>\n",
       "    </tr>\n",
       "    <tr>\n",
       "      <th>16</th>\n",
       "      <td>서울</td>\n",
       "      <td>부산</td>\n",
       "      <td>2022.08.18</td>\n",
       "      <td>13</td>\n",
       "    </tr>\n",
       "    <tr>\n",
       "      <th>17</th>\n",
       "      <td>서울</td>\n",
       "      <td>부산</td>\n",
       "      <td>2022.08.19</td>\n",
       "      <td>18</td>\n",
       "    </tr>\n",
       "    <tr>\n",
       "      <th>18</th>\n",
       "      <td>서울</td>\n",
       "      <td>부산</td>\n",
       "      <td>2022.08.20</td>\n",
       "      <td>13</td>\n",
       "    </tr>\n",
       "    <tr>\n",
       "      <th>19</th>\n",
       "      <td>서울</td>\n",
       "      <td>부산</td>\n",
       "      <td>2022.08.21</td>\n",
       "      <td>11</td>\n",
       "    </tr>\n",
       "    <tr>\n",
       "      <th>20</th>\n",
       "      <td>서울</td>\n",
       "      <td>부산</td>\n",
       "      <td>2022.08.22</td>\n",
       "      <td>4</td>\n",
       "    </tr>\n",
       "    <tr>\n",
       "      <th>21</th>\n",
       "      <td>서울</td>\n",
       "      <td>부산</td>\n",
       "      <td>2022.08.23</td>\n",
       "      <td>11</td>\n",
       "    </tr>\n",
       "    <tr>\n",
       "      <th>22</th>\n",
       "      <td>서울</td>\n",
       "      <td>부산</td>\n",
       "      <td>2022.08.24</td>\n",
       "      <td>13</td>\n",
       "    </tr>\n",
       "    <tr>\n",
       "      <th>23</th>\n",
       "      <td>서울</td>\n",
       "      <td>부산</td>\n",
       "      <td>2022.08.25</td>\n",
       "      <td>10</td>\n",
       "    </tr>\n",
       "    <tr>\n",
       "      <th>24</th>\n",
       "      <td>서울</td>\n",
       "      <td>부산</td>\n",
       "      <td>2022.08.26</td>\n",
       "      <td>11</td>\n",
       "    </tr>\n",
       "    <tr>\n",
       "      <th>25</th>\n",
       "      <td>서울</td>\n",
       "      <td>부산</td>\n",
       "      <td>2022.08.27</td>\n",
       "      <td>11</td>\n",
       "    </tr>\n",
       "    <tr>\n",
       "      <th>26</th>\n",
       "      <td>서울</td>\n",
       "      <td>부산</td>\n",
       "      <td>2022.08.28</td>\n",
       "      <td>11</td>\n",
       "    </tr>\n",
       "    <tr>\n",
       "      <th>27</th>\n",
       "      <td>서울</td>\n",
       "      <td>부산</td>\n",
       "      <td>2022.08.29</td>\n",
       "      <td>12</td>\n",
       "    </tr>\n",
       "    <tr>\n",
       "      <th>28</th>\n",
       "      <td>서울</td>\n",
       "      <td>부산</td>\n",
       "      <td>2022.08.30</td>\n",
       "      <td>11</td>\n",
       "    </tr>\n",
       "    <tr>\n",
       "      <th>29</th>\n",
       "      <td>서울</td>\n",
       "      <td>부산</td>\n",
       "      <td>2022.08.31</td>\n",
       "      <td>10</td>\n",
       "    </tr>\n",
       "    <tr>\n",
       "      <th>30</th>\n",
       "      <td>서울</td>\n",
       "      <td>부산</td>\n",
       "      <td>2022.09.01</td>\n",
       "      <td>7</td>\n",
       "    </tr>\n",
       "  </tbody>\n",
       "</table>\n",
       "</div>"
      ],
      "text/plain": [
       "    출발  도착          일자  교통량\n",
       "0   서울  부산  2022.08.02   16\n",
       "1   서울  부산  2022.08.03   16\n",
       "2   서울  부산  2022.08.04   16\n",
       "3   서울  부산  2022.08.05   14\n",
       "4   서울  부산  2022.08.06   18\n",
       "5   서울  부산  2022.08.07   13\n",
       "6   서울  부산  2022.08.08   18\n",
       "7   서울  부산  2022.08.09    5\n",
       "8   서울  부산  2022.08.10    6\n",
       "9   서울  부산  2022.08.11   17\n",
       "10  서울  부산  2022.08.12   23\n",
       "11  서울  부산  2022.08.13   30\n",
       "12  서울  부산  2022.08.14   24\n",
       "13  서울  부산  2022.08.15   24\n",
       "14  서울  부산  2022.08.16   13\n",
       "15  서울  부산  2022.08.17   13\n",
       "16  서울  부산  2022.08.18   13\n",
       "17  서울  부산  2022.08.19   18\n",
       "18  서울  부산  2022.08.20   13\n",
       "19  서울  부산  2022.08.21   11\n",
       "20  서울  부산  2022.08.22    4\n",
       "21  서울  부산  2022.08.23   11\n",
       "22  서울  부산  2022.08.24   13\n",
       "23  서울  부산  2022.08.25   10\n",
       "24  서울  부산  2022.08.26   11\n",
       "25  서울  부산  2022.08.27   11\n",
       "26  서울  부산  2022.08.28   11\n",
       "27  서울  부산  2022.08.29   12\n",
       "28  서울  부산  2022.08.30   11\n",
       "29  서울  부산  2022.08.31   10\n",
       "30  서울  부산  2022.09.01    7"
      ]
     },
     "execution_count": 12,
     "metadata": {},
     "output_type": "execute_result"
    }
   ],
   "source": [
    "df_traffic"
   ]
  },
  {
   "cell_type": "code",
   "execution_count": 43,
   "metadata": {},
   "outputs": [],
   "source": [
    "for i in range(2,68):\n",
    "    df_tmp1 = pd.read_csv(f'./이용차량/OpenOASIS ({i}).csv',encoding='cp949')\n",
    "    df_traffic = pd.concat([df_tmp1,df_traffic])"
   ]
  },
  {
   "cell_type": "code",
   "execution_count": 46,
   "metadata": {},
   "outputs": [],
   "source": [
    "df_traffic.drop(['출발','도착'],axis=1,inplace=True)"
   ]
  },
  {
   "cell_type": "code",
   "execution_count": 15,
   "metadata": {},
   "outputs": [],
   "source": [
    "def transform(a):\n",
    "    return a.replace('.','-')"
   ]
  },
  {
   "cell_type": "code",
   "execution_count": 44,
   "metadata": {},
   "outputs": [],
   "source": [
    "df_traffic['일자'] = df_traffic['일자'].apply(transform)"
   ]
  },
  {
   "cell_type": "code",
   "execution_count": 45,
   "metadata": {},
   "outputs": [
    {
     "data": {
      "text/html": [
       "<div>\n",
       "<style scoped>\n",
       "    .dataframe tbody tr th:only-of-type {\n",
       "        vertical-align: middle;\n",
       "    }\n",
       "\n",
       "    .dataframe tbody tr th {\n",
       "        vertical-align: top;\n",
       "    }\n",
       "\n",
       "    .dataframe thead th {\n",
       "        text-align: right;\n",
       "    }\n",
       "</style>\n",
       "<table border=\"1\" class=\"dataframe\">\n",
       "  <thead>\n",
       "    <tr style=\"text-align: right;\">\n",
       "      <th></th>\n",
       "      <th>출발</th>\n",
       "      <th>도착</th>\n",
       "      <th>일자</th>\n",
       "      <th>교통량</th>\n",
       "    </tr>\n",
       "  </thead>\n",
       "  <tbody>\n",
       "    <tr>\n",
       "      <th>0</th>\n",
       "      <td>서울</td>\n",
       "      <td>부산</td>\n",
       "      <td>2022-01-27</td>\n",
       "      <td>19</td>\n",
       "    </tr>\n",
       "    <tr>\n",
       "      <th>1</th>\n",
       "      <td>서울</td>\n",
       "      <td>부산</td>\n",
       "      <td>2022-01-28</td>\n",
       "      <td>26</td>\n",
       "    </tr>\n",
       "    <tr>\n",
       "      <th>2</th>\n",
       "      <td>서울</td>\n",
       "      <td>부산</td>\n",
       "      <td>2022-01-29</td>\n",
       "      <td>48</td>\n",
       "    </tr>\n",
       "    <tr>\n",
       "      <th>3</th>\n",
       "      <td>서울</td>\n",
       "      <td>부산</td>\n",
       "      <td>2022-01-30</td>\n",
       "      <td>46</td>\n",
       "    </tr>\n",
       "    <tr>\n",
       "      <th>4</th>\n",
       "      <td>서울</td>\n",
       "      <td>부산</td>\n",
       "      <td>2022-01-31</td>\n",
       "      <td>20</td>\n",
       "    </tr>\n",
       "    <tr>\n",
       "      <th>...</th>\n",
       "      <td>...</td>\n",
       "      <td>...</td>\n",
       "      <td>...</td>\n",
       "      <td>...</td>\n",
       "    </tr>\n",
       "    <tr>\n",
       "      <th>26</th>\n",
       "      <td>서울</td>\n",
       "      <td>부산</td>\n",
       "      <td>2022-08-28</td>\n",
       "      <td>11</td>\n",
       "    </tr>\n",
       "    <tr>\n",
       "      <th>27</th>\n",
       "      <td>서울</td>\n",
       "      <td>부산</td>\n",
       "      <td>2022-08-29</td>\n",
       "      <td>12</td>\n",
       "    </tr>\n",
       "    <tr>\n",
       "      <th>28</th>\n",
       "      <td>서울</td>\n",
       "      <td>부산</td>\n",
       "      <td>2022-08-30</td>\n",
       "      <td>11</td>\n",
       "    </tr>\n",
       "    <tr>\n",
       "      <th>29</th>\n",
       "      <td>서울</td>\n",
       "      <td>부산</td>\n",
       "      <td>2022-08-31</td>\n",
       "      <td>10</td>\n",
       "    </tr>\n",
       "    <tr>\n",
       "      <th>30</th>\n",
       "      <td>서울</td>\n",
       "      <td>부산</td>\n",
       "      <td>2022-09-01</td>\n",
       "      <td>7</td>\n",
       "    </tr>\n",
       "  </tbody>\n",
       "</table>\n",
       "<p>2073 rows × 4 columns</p>\n",
       "</div>"
      ],
      "text/plain": [
       "    출발  도착          일자  교통량\n",
       "0   서울  부산  2022-01-27   19\n",
       "1   서울  부산  2022-01-28   26\n",
       "2   서울  부산  2022-01-29   48\n",
       "3   서울  부산  2022-01-30   46\n",
       "4   서울  부산  2022-01-31   20\n",
       "..  ..  ..         ...  ...\n",
       "26  서울  부산  2022-08-28   11\n",
       "27  서울  부산  2022-08-29   12\n",
       "28  서울  부산  2022-08-30   11\n",
       "29  서울  부산  2022-08-31   10\n",
       "30  서울  부산  2022-09-01    7\n",
       "\n",
       "[2073 rows x 4 columns]"
      ]
     },
     "execution_count": 45,
     "metadata": {},
     "output_type": "execute_result"
    }
   ],
   "source": [
    "df_traffic"
   ]
  },
  {
   "cell_type": "code",
   "execution_count": 47,
   "metadata": {},
   "outputs": [],
   "source": [
    "df_traffic.set_index('일자', inplace=True)"
   ]
  },
  {
   "cell_type": "code",
   "execution_count": 79,
   "metadata": {},
   "outputs": [],
   "source": [
    "df_tmp = df_tmp[df_tmp['datetime'] >= '2019-11-20']"
   ]
  },
  {
   "cell_type": "code",
   "execution_count": 50,
   "metadata": {},
   "outputs": [],
   "source": [
    "df_tmp.set_index('datetime', inplace=True)"
   ]
  },
  {
   "cell_type": "code",
   "execution_count": 51,
   "metadata": {},
   "outputs": [],
   "source": [
    "df= pd.merge(df_tmp,df_traffic,left_index=True,right_on='일자')\n",
    "# https://haloaround.tistory.com/267"
   ]
  },
  {
   "cell_type": "code",
   "execution_count": 48,
   "metadata": {},
   "outputs": [],
   "source": [
    "df_tmp = pd.read_csv('highway_data2.csv')"
   ]
  },
  {
   "cell_type": "code",
   "execution_count": 49,
   "metadata": {},
   "outputs": [],
   "source": [
    "df_tmp.drop('Unnamed: 0',axis=1,inplace=True)"
   ]
  },
  {
   "cell_type": "code",
   "execution_count": 2,
   "metadata": {},
   "outputs": [
    {
     "ename": "NameError",
     "evalue": "name 'df_tmp' is not defined",
     "output_type": "error",
     "traceback": [
      "\u001b[1;31m---------------------------------------------------------------------------\u001b[0m",
      "\u001b[1;31mNameError\u001b[0m                                 Traceback (most recent call last)",
      "\u001b[1;32mc:\\Users\\User\\Desktop\\추석 교통 소요시간 예측 이벤트\\추석_교통_소요시간_예측.ipynb 셀 86\u001b[0m in \u001b[0;36m<cell line: 1>\u001b[1;34m()\u001b[0m\n\u001b[1;32m----> <a href='vscode-notebook-cell:/c%3A/Users/User/Desktop/%EC%B6%94%EC%84%9D%20%EA%B5%90%ED%86%B5%20%EC%86%8C%EC%9A%94%EC%8B%9C%EA%B0%84%20%EC%98%88%EC%B8%A1%20%EC%9D%B4%EB%B2%A4%ED%8A%B8/%EC%B6%94%EC%84%9D_%EA%B5%90%ED%86%B5_%EC%86%8C%EC%9A%94%EC%8B%9C%EA%B0%84_%EC%98%88%EC%B8%A1.ipynb#Y151sZmlsZQ%3D%3D?line=0'>1</a>\u001b[0m df_tmp\n",
      "\u001b[1;31mNameError\u001b[0m: name 'df_tmp' is not defined"
     ]
    }
   ],
   "source": [
    "df_tmp"
   ]
  },
  {
   "cell_type": "code",
   "execution_count": 53,
   "metadata": {},
   "outputs": [],
   "source": [
    "df.to_csv('data.csv')"
   ]
  },
  {
   "cell_type": "code",
   "execution_count": 55,
   "metadata": {},
   "outputs": [],
   "source": [
    "df['time_lag_day1'] = df['time'].shift()"
   ]
  },
  {
   "cell_type": "code",
   "execution_count": 57,
   "metadata": {},
   "outputs": [],
   "source": [
    "df['time_lag_day7'] = df['time'].shift(7)\n",
    "df['time_lag_day30'] = df['time'].shift(30)"
   ]
  },
  {
   "cell_type": "code",
   "execution_count": 59,
   "metadata": {},
   "outputs": [],
   "source": [
    "df['교통량_lag_day1'] = df['교통량'].shift()\n",
    "df['교통량_lag_day7'] = df['교통량'].shift(7)\n",
    "df['교통량_lag_day30'] = df['교통량'].shift(30)"
   ]
  },
  {
   "cell_type": "code",
   "execution_count": 61,
   "metadata": {},
   "outputs": [],
   "source": [
    "df.dropna(inplace=True)"
   ]
  },
  {
   "cell_type": "code",
   "execution_count": 1,
   "metadata": {},
   "outputs": [
    {
     "ename": "NameError",
     "evalue": "name 'df' is not defined",
     "output_type": "error",
     "traceback": [
      "\u001b[1;31m---------------------------------------------------------------------------\u001b[0m",
      "\u001b[1;31mNameError\u001b[0m                                 Traceback (most recent call last)",
      "\u001b[1;32mc:\\Users\\User\\Desktop\\추석 교통 소요시간 예측 이벤트\\추석_교통_소요시간_예측.ipynb 셀 92\u001b[0m in \u001b[0;36m<cell line: 1>\u001b[1;34m()\u001b[0m\n\u001b[1;32m----> <a href='vscode-notebook-cell:/c%3A/Users/User/Desktop/%EC%B6%94%EC%84%9D%20%EA%B5%90%ED%86%B5%20%EC%86%8C%EC%9A%94%EC%8B%9C%EA%B0%84%20%EC%98%88%EC%B8%A1%20%EC%9D%B4%EB%B2%A4%ED%8A%B8/%EC%B6%94%EC%84%9D_%EA%B5%90%ED%86%B5_%EC%86%8C%EC%9A%94%EC%8B%9C%EA%B0%84_%EC%98%88%EC%B8%A1.ipynb#Y161sZmlsZQ%3D%3D?line=0'>1</a>\u001b[0m df\u001b[39m.\u001b[39mtail()\n",
      "\u001b[1;31mNameError\u001b[0m: name 'df' is not defined"
     ]
    }
   ],
   "source": []
  },
  {
   "cell_type": "code",
   "execution_count": 63,
   "metadata": {},
   "outputs": [],
   "source": [
    "df.to_csv('data_final.csv')"
   ]
  }
 ],
 "metadata": {
  "kernelspec": {
   "display_name": "Python 3.9.13 64-bit",
   "language": "python",
   "name": "python3"
  },
  "language_info": {
   "codemirror_mode": {
    "name": "ipython",
    "version": 3
   },
   "file_extension": ".py",
   "mimetype": "text/x-python",
   "name": "python",
   "nbconvert_exporter": "python",
   "pygments_lexer": "ipython3",
   "version": "3.9.13"
  },
  "orig_nbformat": 4,
  "vscode": {
   "interpreter": {
    "hash": "cf92aa13fedf815d5c8dd192b8d835913fde3e8bc926b2a0ad6cc74ef2ba3ca2"
   }
  }
 },
 "nbformat": 4,
 "nbformat_minor": 2
}
