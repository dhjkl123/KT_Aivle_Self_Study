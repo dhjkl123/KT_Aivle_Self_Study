{
  "cells": [
    {
      "cell_type": "markdown",
      "metadata": {
        "id": "t-KCKuLyZRaJ"
      },
      "source": [
        "# YOLOv3 받아오기"
      ]
    },
    {
      "cell_type": "code",
      "execution_count": null,
      "metadata": {
        "colab": {
          "base_uri": "https://localhost:8080/"
        },
        "id": "70PzrrDxYKOZ",
        "outputId": "f4a53947-a24f-41cb-e0b2-2e955f57b41e"
      },
      "outputs": [],
      "source": [
        "!git clone https://github.com/ultralytics/yolov3.git"
      ]
    },
    {
      "cell_type": "markdown",
      "metadata": {
        "id": "SCQpI727aASk"
      },
      "source": [
        "# 내부 패키지 설치"
      ]
    },
    {
      "cell_type": "code",
      "execution_count": null,
      "metadata": {
        "colab": {
          "base_uri": "https://localhost:8080/"
        },
        "id": "HUCjfceXZhc_",
        "outputId": "6b20ddf8-c1ec-4ed4-8ff0-03148112b920"
      },
      "outputs": [],
      "source": [
        "!cd yolov3; pip install -r /content/yolov3/requirements.txt"
      ]
    },
    {
      "cell_type": "markdown",
      "metadata": {
        "id": "-d_0x1gBchUm"
      },
      "source": [
        "# Pretrained model 가져오기"
      ]
    },
    {
      "cell_type": "code",
      "execution_count": null,
      "metadata": {
        "id": "mTeSoFgpaRRM"
      },
      "outputs": [],
      "source": [
        "!mkdir /content/yolov3/pretrained"
      ]
    },
    {
      "cell_type": "code",
      "execution_count": null,
      "metadata": {
        "colab": {
          "base_uri": "https://localhost:8080/"
        },
        "id": "zrjGXuV8cHnv",
        "outputId": "c0f12f0f-a69a-4524-b9d2-c61713476a27"
      },
      "outputs": [],
      "source": [
        "!wget -O /content/yolov3/pretrained/yolov3-tiny.pt https://github.com/ultralytics/yolov3/releases/download/v9.6.0/yolov3-tiny.pt"
      ]
    },
    {
      "cell_type": "markdown",
      "metadata": {
        "id": "4wq9i6EtctdR"
      },
      "source": [
        "# Object Detection"
      ]
    },
    {
      "cell_type": "markdown",
      "metadata": {
        "id": "bbTULVOBdM3j"
      },
      "source": [
        "## 명령어 확인"
      ]
    },
    {
      "cell_type": "code",
      "execution_count": null,
      "metadata": {
        "colab": {
          "base_uri": "https://localhost:8080/"
        },
        "id": "z7KPtxrhdEKx",
        "outputId": "f3c8fd17-65b7-435a-c05d-9c48a9a1273d"
      },
      "outputs": [],
      "source": [
        "!cd yolov3; python detect.py -h"
      ]
    },
    {
      "cell_type": "code",
      "execution_count": null,
      "metadata": {
        "colab": {
          "base_uri": "https://localhost:8080/"
        },
        "id": "Qfz9d-EIcreI",
        "outputId": "0ab9bfad-2202-46f9-9021-d5f32e6e8f1b"
      },
      "outputs": [],
      "source": [
        "!cd yolov3; python detect.py \\\n",
        "--weights '/content/yolov3/pretrained/yolov3-tiny.pt'\\\n",
        "--source '/content/yolov3/data/images'\\\n",
        "--imgsz 640\\\n",
        "--conf-thres 0.5\\\n",
        "--iou-thres 0.4\\\n",
        "--line-thickness 2\\\n",
        "--project 'detect'\\\n",
        "--exist-ok"
      ]
    },
    {
      "cell_type": "markdown",
      "metadata": {
        "id": "vARP2MyafFw_"
      },
      "source": [
        "# Detected File Download"
      ]
    },
    {
      "cell_type": "code",
      "execution_count": null,
      "metadata": {
        "id": "pE8ADsuyfaN3"
      },
      "outputs": [],
      "source": [
        "from google.colab import files"
      ]
    },
    {
      "cell_type": "code",
      "execution_count": null,
      "metadata": {
        "colab": {
          "base_uri": "https://localhost:8080/"
        },
        "id": "cig2yS7ffFDN",
        "outputId": "8a8b5dd5-bc77-4dbf-dba2-8de46739c4d5"
      },
      "outputs": [],
      "source": [
        "!zip -r /content/detected.zip /content/yolov3/detect/exp"
      ]
    },
    {
      "cell_type": "code",
      "execution_count": null,
      "metadata": {
        "colab": {
          "base_uri": "https://localhost:8080/",
          "height": 17
        },
        "id": "6B6pMiJpfs0r",
        "outputId": "7423ea8d-3d66-4a64-8204-365dd2046756"
      },
      "outputs": [],
      "source": [
        "files.download(filename='/content/detected.zip')"
      ]
    }
  ],
  "metadata": {
    "colab": {
      "collapsed_sections": [],
      "provenance": []
    },
    "kernelspec": {
      "display_name": "Python 3.9.13 64-bit",
      "language": "python",
      "name": "python3"
    },
    "language_info": {
      "codemirror_mode": {
        "name": "ipython",
        "version": 3
      },
      "file_extension": ".py",
      "mimetype": "text/x-python",
      "name": "python",
      "nbconvert_exporter": "python",
      "pygments_lexer": "ipython3",
      "version": "3.9.13"
    },
    "vscode": {
      "interpreter": {
        "hash": "cf92aa13fedf815d5c8dd192b8d835913fde3e8bc926b2a0ad6cc74ef2ba3ca2"
      }
    }
  },
  "nbformat": 4,
  "nbformat_minor": 0
}
